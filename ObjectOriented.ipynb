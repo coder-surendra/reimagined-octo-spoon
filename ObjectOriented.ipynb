{
 "cells": [
  {
   "cell_type": "markdown",
   "id": "95b71bbe",
   "metadata": {},
   "source": [
    "## deck of cards\n",
    "hints : \n",
    "* Note that a \"card deck\" is very broad. You might want to think about a reasonable scope \n",
    "to the problem. \n",
    "* How, if at all, will you handle aces? \n"
   ]
  },
  {
   "cell_type": "code",
   "execution_count": 4,
   "id": "892ee5e8",
   "metadata": {},
   "outputs": [
    {
     "name": "stdout",
     "output_type": "stream",
     "text": [
      "6 of Ace\n"
     ]
    }
   ],
   "source": [
    "class Card:\n",
    "    def __init__(self,suit,value):\n",
    "        self.suit = suit\n",
    "        self.value = value\n",
    "        \n",
    "    def show(self):\n",
    "        print(\"{} of {}\".format(self.value , self.suit))\n",
    "        \n",
    "        \n",
    "c = Card('Ace', 6)\n",
    "c.show()"
   ]
  },
  {
   "cell_type": "code",
   "execution_count": 10,
   "id": "0ab6edba",
   "metadata": {},
   "outputs": [],
   "source": [
    "import random\n",
    "class Deck:\n",
    "    def __init__(self):\n",
    "        self.cards = []\n",
    "        self.build()\n",
    "        \n",
    "    def build(self):\n",
    "        for s in ['spades','clubs','diamonds','hearts']:\n",
    "            for v in range(1,14):\n",
    "                self.cards.append(Card(s,v))\n",
    "                \n",
    "    def show(self):\n",
    "        for c in self.cards:\n",
    "            c.show()\n",
    "            \n",
    "    def shuffle(self):\n",
    "        for i in range(len(self.cards) - 1, 0, -1):\n",
    "            r = random.randint(0,1)\n",
    "            self.cards[i], self.cards[r] =  self.cards[r], self.cards[i]\n",
    "            \n",
    "    def draw(self):\n",
    "        return self.cards.pop()\n",
    "            \n",
    "deck = Deck()\n",
    "deck.shuffle()\n",
    "# deck.show()\n",
    "# card = deck.draw()\n",
    "# card.show()"
   ]
  },
  {
   "cell_type": "code",
   "execution_count": 12,
   "id": "b8951ca3",
   "metadata": {},
   "outputs": [
    {
     "name": "stdout",
     "output_type": "stream",
     "text": [
      "2 of spades\n"
     ]
    }
   ],
   "source": [
    "class Player:\n",
    "    \n",
    "    def __init__(self,name):\n",
    "        self.name = name\n",
    "        self.hand = []\n",
    "        \n",
    "    def draw(self,deck):\n",
    "        self.hand.append(deck.draw())\n",
    "        return self\n",
    "    \n",
    "    def showHand(self):\n",
    "        for card in self.hand:\n",
    "            card.show()\n",
    "            \n",
    "bob = Player('bob')\n",
    "bob.draw(deck)\n",
    "bob.showHand()"
   ]
  },
  {
   "cell_type": "code",
   "execution_count": 6,
   "id": "9c7d74d1",
   "metadata": {},
   "outputs": [
    {
     "name": "stdout",
     "output_type": "stream",
     "text": [
      "I am timmy and I am 4 years old\n",
      "so much wow\n",
      "I am kitty and I am 1 years old and I am orange\n"
     ]
    }
   ],
   "source": [
    "class Pet:\n",
    "    def __init__(self,name,age):\n",
    "        self.name = name\n",
    "        self.age = age\n",
    "        \n",
    "    def show(self):\n",
    "        print(f\"I am {self.name} and I am {self.age} years old\")\n",
    "        \n",
    "    def speak(self):\n",
    "        print(\"I don't know what to say\")\n",
    "        \n",
    "class Cat(Pet):\n",
    "    def __init__(self,name,age,color):\n",
    "        super().__init__(name,age)\n",
    "        self.color = color\n",
    "        \n",
    "    def speak(self):\n",
    "        print('meow')\n",
    "    \n",
    "    def show(self):\n",
    "        print(f\"I am {self.name} and I am {self.age} years old and I am {self.color}\")\n",
    "    \n",
    "class Dog(Pet):\n",
    "    def speak(self):\n",
    "        print('so much wow')\n",
    "        \n",
    "d = Dog('timmy',4)\n",
    "d.show()\n",
    "d.speak()\n",
    "c = Cat('kitty',1,'orange')\n",
    "c.show()"
   ]
  },
  {
   "cell_type": "code",
   "execution_count": 10,
   "id": "1ad6a6ff",
   "metadata": {},
   "outputs": [
    {
     "data": {
      "text/plain": [
       "2"
      ]
     },
     "execution_count": 10,
     "metadata": {},
     "output_type": "execute_result"
    }
   ],
   "source": [
    "class Person:\n",
    "        \n",
    "    GRAVITY = 9.8\n",
    "    number_of_people = 0\n",
    "    \n",
    "    def __init__(self,name):\n",
    "        self.name = name\n",
    "        Person.add_person()\n",
    "        \n",
    "    @classmethod    \n",
    "    def add_person(cls):\n",
    "        cls.number_of_people += 1\n",
    "        \n",
    "    @classmethod\n",
    "    def show_number_of_people(cls):\n",
    "        return cls.number_of_people\n",
    "    \n",
    "p1 = Person('Bob')\n",
    "p2 = Person('Alice')\n",
    "Person.show_number_of_people()"
   ]
  },
  {
   "cell_type": "markdown",
   "id": "14112b1a",
   "metadata": {},
   "source": [
    "static methods are used to access function without creating any instances \n",
    "they just compute the data, but can't modify the data in class, \n",
    "since they don't have 'self' or 'cls'"
   ]
  },
  {
   "cell_type": "code",
   "execution_count": 11,
   "id": "35b959a9",
   "metadata": {},
   "outputs": [
    {
     "name": "stdout",
     "output_type": "stream",
     "text": [
      "15\n"
     ]
    }
   ],
   "source": [
    "class Math:\n",
    "    @staticmethod\n",
    "    def add5(n):\n",
    "        return n + 5\n",
    "\n",
    "print(Math.add5(10))"
   ]
  },
  {
   "cell_type": "markdown",
   "id": "f653566a",
   "metadata": {},
   "source": [
    "### Call Center: \n",
    "Imagine you have a call center with three levels of employees: respondent, manager,\n",
    "and director. An incoming telephone call must be first allocated to a respondent who is free. \n",
    "If the respondent can't handle the call, he or she must escalate the call to a manager. If the manager is not free or not able to handle it, then the call should be escalated to a director. \n",
    "Design the classes and data structures for this problem. Implement a method dispatchCall() which assigns a call to the first available employee."
   ]
  },
  {
   "cell_type": "code",
   "execution_count": 20,
   "id": "6504f340",
   "metadata": {},
   "outputs": [
    {
     "name": "stdout",
     "output_type": "stream",
     "text": [
      "Bob i.e. Respondent  is attending call\n",
      "Alice i.e. Manager  is attending call\n",
      "Marco i.e. Director  is attending call\n",
      "sorry we can't attend the call now\n",
      "Marco i.e. Director  has finished the call\n",
      "Alice i.e. Manager  has finished the call\n",
      "Alice i.e. Manager  is attending call\n"
     ]
    }
   ],
   "source": [
    "class Employee:\n",
    "    def __init__(self,name,designation):\n",
    "        self.name = name\n",
    "        self.designation = designation\n",
    "        self.available = True\n",
    "            \n",
    "    def showDetails(self):\n",
    "        if(self.available):\n",
    "            available = 'available'\n",
    "        else:\n",
    "            available = 'busy'\n",
    "        print(f\"I am {self.name}, working as {self.designation}. I am currently {available}\")\n",
    "        \n",
    "    def setHigherUp(self, person):\n",
    "        self.higherUp = person\n",
    "        \n",
    "    def attendCall(self):\n",
    "        if(self.available):\n",
    "            print(f'{self.name} i.e. {self.designation}  is attending call')\n",
    "            self.available = False\n",
    "        else:\n",
    "            self.callHigherUp()\n",
    "            \n",
    "    def finishCall(self):\n",
    "        print(f'{self.name} i.e. {self.designation}  has finished the call')\n",
    "        self.available = True\n",
    "            \n",
    "    def callHigherUp(self):\n",
    "        if(self.designation == 'Director'):\n",
    "            print( \"sorry we can't attend the call now\")\n",
    "            return \n",
    "        return self.higherUp.attendCall()\n",
    "    \n",
    "respondent = Employee('Bob','Respondent')\n",
    "manager = Employee('Alice','Manager')\n",
    "director = Employee('Marco','Director')\n",
    "\n",
    "respondent.setHigherUp(manager)\n",
    "manager.setHigherUp(director)\n",
    "\n",
    "respondent.attendCall()\n",
    "respondent.attendCall()\n",
    "respondent.attendCall()\n",
    "respondent.attendCall()\n",
    "\n",
    "director.finishCall()\n",
    "manager.finishCall()\n",
    "respondent.attendCall()"
   ]
  },
  {
   "cell_type": "code",
   "execution_count": 3,
   "id": "d3637c21",
   "metadata": {},
   "outputs": [
    {
     "name": "stdout",
     "output_type": "stream",
     "text": [
      "1 - song1\n",
      "2 - song2\n",
      "3 - song4\n",
      "4 - song3\n",
      "5 - song5\n",
      "6 - song0\n"
     ]
    }
   ],
   "source": [
    "class Jukebox:\n",
    "    def __init__(self):\n",
    "        self.musicList = []\n",
    "        self.playing = False\n",
    "        self.coins = 0\n",
    "        \n",
    "    def playMusic(self,music):\n",
    "        if(music in self.musicList):\n",
    "            self.coins  += 1\n",
    "            self.playing = True\n",
    "            return(f\"playing {music} now !\")\n",
    "        else:\n",
    "            return f\"{music} is not installed in Jukebox\"\n",
    "            \n",
    "    def stopMusic(self):\n",
    "        self.playing = False\n",
    "        \n",
    "    def addMusic(self, music):\n",
    "        if(music not in self.musicList):\n",
    "            self.musicList.append(music)\n",
    "            \n",
    "            \n",
    "    def showMusicList(self):\n",
    "        c = 0\n",
    "        for music in self.musicList:\n",
    "            c += 1\n",
    "            print(f'{c} - {music}')\n",
    "        \n",
    "        \n",
    "    def isPlaying(self):\n",
    "        return self.playing\n",
    "    \n",
    "    def coinCollected(self):\n",
    "        return self.coins\n",
    "        \n",
    "Juke = Jukebox()\n",
    "musicList = ['song1','song2','song4','song3','song5','song0']\n",
    "for music in musicList:\n",
    "    Juke.addMusic(music)\n",
    "    \n",
    "Juke.showMusicList()"
   ]
  },
  {
   "cell_type": "code",
   "execution_count": 5,
   "id": "6696ad30",
   "metadata": {},
   "outputs": [],
   "source": [
    "class ParkingLot:\n",
    "    def __init__(self,number,zone):\n",
    "        self.parkingLotNumber = number\n",
    "        self.zone = None\n",
    "        self.available = True\n",
    "        self.moneyMode = 'unpaid'                  \n",
    "        self.vechicleType = ''\n",
    "        self.dimension = ''\n",
    "        self.vechicleNumber = ''\n",
    "\n",
    "class BikeParkingLot(ParkingLot):\n",
    "    \n",
    "    def __init__(self,number,zone,dimension):\n",
    "        self.vechicleType = 'Bike'\n",
    "        self.dimension = '2 x 1'\n",
    "        \n",
    "    def parkVechicle(self,vechicleNumber):\n",
    "        \n",
    "        if(self.available):\n",
    "            self.vechicleNumber = vechicleNumber\n",
    "            self.available = False\n",
    "            print(f'{vechicleNumber} was parked at lot number {self.parkingLotNumber}')\n",
    "        \n",
    "        else:\n",
    "            print(f\"sorry, lot number {self.parkingLotNumber} isn't available \" )\n",
    "        \n",
    "    def unpark(self):\n",
    "        \n",
    "        if(self.available) :\n",
    "            print('NO vechicle present here at the moment')\n",
    "        else:\n",
    "            self.vechicleNumber = ''\n",
    "            self.available = True\n",
    "            print(f\"{self.parkingLotNumber} is available for {self.vechicleType}\")\n",
    "        \n",
    "class CarParkingLot(ParkingLot):\n",
    "    def __init__(self,number,zone,dimension):\n",
    "        self.vechicleType = 'Car'\n",
    "        self.dimension = '2 x 1'\n",
    "    "
   ]
  },
  {
   "cell_type": "code",
   "execution_count": null,
   "id": "e2c8ca78",
   "metadata": {},
   "outputs": [],
   "source": []
  }
 ],
 "metadata": {
  "kernelspec": {
   "display_name": "Python 3",
   "language": "python",
   "name": "python3"
  },
  "language_info": {
   "codemirror_mode": {
    "name": "ipython",
    "version": 3
   },
   "file_extension": ".py",
   "mimetype": "text/x-python",
   "name": "python",
   "nbconvert_exporter": "python",
   "pygments_lexer": "ipython3",
   "version": "3.8.8"
  }
 },
 "nbformat": 4,
 "nbformat_minor": 5
}
