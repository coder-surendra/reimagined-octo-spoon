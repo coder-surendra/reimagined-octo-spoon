{
 "cells": [
  {
   "cell_type": "markdown",
   "id": "95b71bbe",
   "metadata": {},
   "source": [
    "## deck of cards\n",
    "hints : \n",
    "* Note that a \"card deck\" is very broad. You might want to think about a reasonable scope \n",
    "to the problem. \n",
    "* How, if at all, will you handle aces? \n"
   ]
  },
  {
   "cell_type": "code",
   "execution_count": 4,
   "id": "892ee5e8",
   "metadata": {},
   "outputs": [
    {
     "name": "stdout",
     "output_type": "stream",
     "text": [
      "6 of Ace\n"
     ]
    }
   ],
   "source": [
    "class Card:\n",
    "    def __init__(self,suit,value):\n",
    "        self.suit = suit\n",
    "        self.value = value\n",
    "        \n",
    "    def show(self):\n",
    "        print(\"{} of {}\".format(self.value , self.suit))\n",
    "        \n",
    "        \n",
    "c = Card('Ace', 6)\n",
    "c.show()"
   ]
  },
  {
   "cell_type": "code",
   "execution_count": 10,
   "id": "0ab6edba",
   "metadata": {},
   "outputs": [],
   "source": [
    "import random\n",
    "class Deck:\n",
    "    def __init__(self):\n",
    "        self.cards = []\n",
    "        self.build()\n",
    "        \n",
    "    def build(self):\n",
    "        for s in ['spades','clubs','diamonds','hearts']:\n",
    "            for v in range(1,14):\n",
    "                self.cards.append(Card(s,v))\n",
    "                \n",
    "    def show(self):\n",
    "        for c in self.cards:\n",
    "            c.show()\n",
    "            \n",
    "    def shuffle(self):\n",
    "        for i in range(len(self.cards) - 1, 0, -1):\n",
    "            r = random.randint(0,1)\n",
    "            self.cards[i], self.cards[r] =  self.cards[r], self.cards[i]\n",
    "            \n",
    "    def draw(self):\n",
    "        return self.cards.pop()\n",
    "            \n",
    "deck = Deck()\n",
    "deck.shuffle()\n",
    "# deck.show()\n",
    "# card = deck.draw()\n",
    "# card.show()"
   ]
  },
  {
   "cell_type": "code",
   "execution_count": 12,
   "id": "b8951ca3",
   "metadata": {},
   "outputs": [
    {
     "name": "stdout",
     "output_type": "stream",
     "text": [
      "2 of spades\n"
     ]
    }
   ],
   "source": [
    "class Player:\n",
    "    \n",
    "    def __init__(self,name):\n",
    "        self.name = name\n",
    "        self.hand = []\n",
    "        \n",
    "    def draw(self,deck):\n",
    "        self.hand.append(deck.draw())\n",
    "        return self\n",
    "    \n",
    "    def showHand(self):\n",
    "        for card in self.hand:\n",
    "            card.show()\n",
    "            \n",
    "bob = Player('bob')\n",
    "bob.draw(deck)\n",
    "bob.showHand()"
   ]
  }
 ],
 "metadata": {
  "kernelspec": {
   "display_name": "Python 3",
   "language": "python",
   "name": "python3"
  },
  "language_info": {
   "codemirror_mode": {
    "name": "ipython",
    "version": 3
   },
   "file_extension": ".py",
   "mimetype": "text/x-python",
   "name": "python",
   "nbconvert_exporter": "python",
   "pygments_lexer": "ipython3",
   "version": "3.8.8"
  }
 },
 "nbformat": 4,
 "nbformat_minor": 5
}
