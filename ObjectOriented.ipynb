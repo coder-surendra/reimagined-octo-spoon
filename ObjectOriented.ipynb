{
 "cells": [
  {
   "cell_type": "markdown",
   "id": "95b71bbe",
   "metadata": {},
   "source": [
    "## deck of cards\n",
    "hints : \n",
    "* Note that a \"card deck\" is very broad. You might want to think about a reasonable scope \n",
    "to the problem. \n",
    "* How, if at all, will you handle aces? \n"
   ]
  },
  {
   "cell_type": "code",
   "execution_count": 4,
   "id": "892ee5e8",
   "metadata": {},
   "outputs": [
    {
     "name": "stdout",
     "output_type": "stream",
     "text": [
      "6 of Ace\n"
     ]
    }
   ],
   "source": [
    "from pprint import pprint\n",
    "\n",
    "class Card:\n",
    "    def __init__(self,suit,value):\n",
    "        self.suit = suit\n",
    "        self.value = value\n",
    "        \n",
    "    def show(self):\n",
    "        print(\"{} of {}\".format(self.value , self.suit))\n",
    "        \n",
    "        \n",
    "c = Card('Ace', 6)\n",
    "c.show()"
   ]
  },
  {
   "cell_type": "code",
   "execution_count": 10,
   "id": "0ab6edba",
   "metadata": {},
   "outputs": [],
   "source": [
    "import random\n",
    "class Deck:\n",
    "    def __init__(self):\n",
    "        self.cards = []\n",
    "        self.build()\n",
    "        \n",
    "    def build(self):\n",
    "        for s in ['spades','clubs','diamonds','hearts']:\n",
    "            for v in range(1,14):\n",
    "                self.cards.append(Card(s,v))\n",
    "                \n",
    "    def show(self):\n",
    "        for c in self.cards:\n",
    "            c.show()\n",
    "            \n",
    "    def shuffle(self):\n",
    "        for i in range(len(self.cards) - 1, 0, -1):\n",
    "            r = random.randint(0,1)\n",
    "            self.cards[i], self.cards[r] =  self.cards[r], self.cards[i]\n",
    "            \n",
    "    def draw(self):\n",
    "        return self.cards.pop()\n",
    "            \n",
    "deck = Deck()\n",
    "deck.shuffle()\n",
    "# deck.show()\n",
    "# card = deck.draw()\n",
    "# card.show()"
   ]
  },
  {
   "cell_type": "code",
   "execution_count": 12,
   "id": "b8951ca3",
   "metadata": {},
   "outputs": [
    {
     "name": "stdout",
     "output_type": "stream",
     "text": [
      "2 of spades\n"
     ]
    }
   ],
   "source": [
    "class Player:\n",
    "    \n",
    "    def __init__(self,name):\n",
    "        self.name = name\n",
    "        self.hand = []\n",
    "        \n",
    "    def draw(self,deck):\n",
    "        self.hand.append(deck.draw())\n",
    "        return self\n",
    "    \n",
    "    def showHand(self):\n",
    "        for card in self.hand:\n",
    "            card.show()\n",
    "            \n",
    "bob = Player('bob')\n",
    "bob.draw(deck)\n",
    "bob.showHand()"
   ]
  },
  {
   "cell_type": "code",
   "execution_count": 6,
   "id": "9c7d74d1",
   "metadata": {},
   "outputs": [
    {
     "name": "stdout",
     "output_type": "stream",
     "text": [
      "I am timmy and I am 4 years old\n",
      "so much wow\n",
      "I am kitty and I am 1 years old and I am orange\n"
     ]
    }
   ],
   "source": [
    "class Pet:\n",
    "    def __init__(self,name,age):\n",
    "        self.name = name\n",
    "        self.age = age\n",
    "        \n",
    "    def show(self):\n",
    "        print(f\"I am {self.name} and I am {self.age} years old\")\n",
    "        \n",
    "    def speak(self):\n",
    "        print(\"I don't know what to say\")\n",
    "        \n",
    "class Cat(Pet):\n",
    "    def __init__(self,name,age,color):\n",
    "        super().__init__(name,age)\n",
    "        self.color = color\n",
    "        \n",
    "    def speak(self):\n",
    "        print('meow')\n",
    "    \n",
    "    def show(self):\n",
    "        print(f\"I am {self.name} and I am {self.age} years old and I am {self.color}\")\n",
    "    \n",
    "class Dog(Pet):\n",
    "    def speak(self):\n",
    "        print('so much wow')\n",
    "        \n",
    "d = Dog('timmy',4)\n",
    "d.show()\n",
    "d.speak()\n",
    "c = Cat('kitty',1,'orange')\n",
    "c.show()"
   ]
  },
  {
   "cell_type": "code",
   "execution_count": 10,
   "id": "1ad6a6ff",
   "metadata": {},
   "outputs": [
    {
     "data": {
      "text/plain": [
       "2"
      ]
     },
     "execution_count": 10,
     "metadata": {},
     "output_type": "execute_result"
    }
   ],
   "source": [
    "class Person:\n",
    "        \n",
    "    GRAVITY = 9.8\n",
    "    number_of_people = 0\n",
    "    \n",
    "    def __init__(self,name):\n",
    "        self.name = name\n",
    "        Person.add_person()\n",
    "        \n",
    "    @classmethod    \n",
    "    def add_person(cls):\n",
    "        cls.number_of_people += 1\n",
    "        \n",
    "    @classmethod\n",
    "    def show_number_of_people(cls):\n",
    "        return cls.number_of_people\n",
    "    \n",
    "p1 = Person('Bob')\n",
    "p2 = Person('Alice')\n",
    "Person.show_number_of_people()"
   ]
  },
  {
   "cell_type": "markdown",
   "id": "14112b1a",
   "metadata": {},
   "source": [
    "static methods are used to access function without creating any instances \n",
    "they just compute the data, but can't modify the data in class, \n",
    "since they don't have 'self' or 'cls'"
   ]
  },
  {
   "cell_type": "code",
   "execution_count": 11,
   "id": "35b959a9",
   "metadata": {},
   "outputs": [
    {
     "name": "stdout",
     "output_type": "stream",
     "text": [
      "15\n"
     ]
    }
   ],
   "source": [
    "class Math:\n",
    "    @staticmethod\n",
    "    def add5(n):\n",
    "        return n + 5\n",
    "\n",
    "print(Math.add5(10))"
   ]
  },
  {
   "cell_type": "markdown",
   "id": "f653566a",
   "metadata": {},
   "source": [
    "### Call Center: \n",
    "Imagine you have a call center with three levels of employees: respondent, manager,\n",
    "and director. An incoming telephone call must be first allocated to a respondent who is free. \n",
    "If the respondent can't handle the call, he or she must escalate the call to a manager. If the manager is not free or not able to handle it, then the call should be escalated to a director. \n",
    "Design the classes and data structures for this problem. Implement a method dispatchCall() which assigns a call to the first available employee."
   ]
  },
  {
   "cell_type": "code",
   "execution_count": 20,
   "id": "6504f340",
   "metadata": {},
   "outputs": [
    {
     "name": "stdout",
     "output_type": "stream",
     "text": [
      "Bob i.e. Respondent  is attending call\n",
      "Alice i.e. Manager  is attending call\n",
      "Marco i.e. Director  is attending call\n",
      "sorry we can't attend the call now\n",
      "Marco i.e. Director  has finished the call\n",
      "Alice i.e. Manager  has finished the call\n",
      "Alice i.e. Manager  is attending call\n"
     ]
    }
   ],
   "source": [
    "class Employee:\n",
    "    def __init__(self,name,designation):\n",
    "        self.name = name\n",
    "        self.designation = designation\n",
    "        self.available = True\n",
    "            \n",
    "    def showDetails(self):\n",
    "        if(self.available):\n",
    "            available = 'available'\n",
    "        else:\n",
    "            available = 'busy'\n",
    "        print(f\"I am {self.name}, working as {self.designation}. I am currently {available}\")\n",
    "        \n",
    "    def setHigherUp(self, person):\n",
    "        self.higherUp = person\n",
    "        \n",
    "    def attendCall(self):\n",
    "        if(self.available):\n",
    "            print(f'{self.name} i.e. {self.designation}  is attending call')\n",
    "            self.available = False\n",
    "        else:\n",
    "            self.callHigherUp()\n",
    "            \n",
    "    def finishCall(self):\n",
    "        print(f'{self.name} i.e. {self.designation}  has finished the call')\n",
    "        self.available = True\n",
    "            \n",
    "    def callHigherUp(self):\n",
    "        if(self.designation == 'Director'):\n",
    "            print( \"sorry we can't attend the call now\")\n",
    "            return \n",
    "        return self.higherUp.attendCall()\n",
    "    \n",
    "respondent = Employee('Bob','Respondent')\n",
    "manager = Employee('Alice','Manager')\n",
    "director = Employee('Marco','Director')\n",
    "\n",
    "respondent.setHigherUp(manager)\n",
    "manager.setHigherUp(director)\n",
    "\n",
    "respondent.attendCall()\n",
    "respondent.attendCall()\n",
    "respondent.attendCall()\n",
    "respondent.attendCall()\n",
    "\n",
    "director.finishCall()\n",
    "manager.finishCall()\n",
    "respondent.attendCall()"
   ]
  },
  {
   "cell_type": "code",
   "execution_count": 3,
   "id": "d3637c21",
   "metadata": {},
   "outputs": [
    {
     "name": "stdout",
     "output_type": "stream",
     "text": [
      "1 - song1\n",
      "2 - song2\n",
      "3 - song4\n",
      "4 - song3\n",
      "5 - song5\n",
      "6 - song0\n"
     ]
    }
   ],
   "source": [
    "class Jukebox:\n",
    "    def __init__(self):\n",
    "        self.musicList = []\n",
    "        self.playing = False\n",
    "        self.coins = 0\n",
    "        \n",
    "    def playMusic(self,music):\n",
    "        if(music in self.musicList):\n",
    "            self.coins  += 1\n",
    "            self.playing = True\n",
    "            return(f\"playing {music} now !\")\n",
    "        else:\n",
    "            return f\"{music} is not installed in Jukebox\"\n",
    "            \n",
    "    def stopMusic(self):\n",
    "        self.playing = False\n",
    "        \n",
    "    def addMusic(self, music):\n",
    "        if(music not in self.musicList):\n",
    "            self.musicList.append(music)\n",
    "            \n",
    "            \n",
    "    def showMusicList(self):\n",
    "        c = 0\n",
    "        for music in self.musicList:\n",
    "            c += 1\n",
    "            print(f'{c} - {music}')\n",
    "        \n",
    "        \n",
    "    def isPlaying(self):\n",
    "        return self.playing\n",
    "    \n",
    "    def coinCollected(self):\n",
    "        return self.coins\n",
    "        \n",
    "Juke = Jukebox()\n",
    "musicList = ['song1','song2','song4','song3','song5','song0']\n",
    "for music in musicList:\n",
    "    Juke.addMusic(music)\n",
    "    \n",
    "Juke.showMusicList()"
   ]
  },
  {
   "cell_type": "code",
   "execution_count": 11,
   "id": "6696ad30",
   "metadata": {},
   "outputs": [
    {
     "name": "stdout",
     "output_type": "stream",
     "text": [
      "{'available': True,\n",
      " 'dimension': '2 x 1',\n",
      " 'moneyMode': 'walking',\n",
      " 'parkingLotNumber': 1,\n",
      " 'vechicleNumber': '',\n",
      " 'vechicleType': 'Bike',\n",
      " 'zone': None}\n",
      "ABC123 was parked at lot number 1\n",
      "sorry, lot number 1 isn't available \n",
      "suv132 was parked at lot number 10\n",
      "1 is available for Bike\n",
      "suv1231 was parked at lot number 1\n"
     ]
    }
   ],
   "source": [
    "class ParkingLot:\n",
    "    def __init__(self,number,zone):\n",
    "        self.parkingLotNumber = number\n",
    "        self.zone = None\n",
    "        self.available = True\n",
    "        self.moneyMode = 'walking'                  \n",
    "        self.vechicleType = ''\n",
    "        self.dimension = ''\n",
    "        self.vechicleNumber = ''\n",
    "        \n",
    "    def show(self):\n",
    "        pprint(self.__dict__)\n",
    "        \n",
    "    def park(self,vechicleNumber):\n",
    "        \n",
    "        if(self.available):\n",
    "            self.vechicleNumber = vechicleNumber\n",
    "            self.available = False\n",
    "            print(f'{vechicleNumber} was parked at lot number {self.parkingLotNumber}')\n",
    "        \n",
    "        else:\n",
    "            print(f\"sorry, lot number {self.parkingLotNumber} isn't available \" )\n",
    "\n",
    "        \n",
    "    def unpark(self):\n",
    "        \n",
    "        if(self.available) :\n",
    "            print('NO vechicle present here at the moment')\n",
    "        else:\n",
    "            self.vechicleNumber = ''\n",
    "            self.available = True\n",
    "            print(f\"{self.parkingLotNumber} is available for {self.vechicleType}\")\n",
    "            \n",
    "class BikeParkingLot(ParkingLot):\n",
    "    \n",
    "    def __init__(self,number,zone):\n",
    "        super().__init__(number,zone)\n",
    "        self.vechicleType = 'Bike'\n",
    "        self.dimension = '2 x 1'\n",
    "        \n",
    "        \n",
    "class CarParkingLot(ParkingLot):\n",
    "    def __init__(self,number,zone):\n",
    "        super().__init__(number,zone)\n",
    "        self.vechicleType = 'Car'\n",
    "        self.dimension = '2 x 3'\n",
    "    \n",
    "lot1 = BikeParkingLot(1, 'A')\n",
    "lot2 = CarParkingLot(10 , \"B\")\n",
    "lot1.show()\n",
    "lot1.park('ABC123')\n",
    "lot1.park('BC1212')\n",
    "\n",
    "lot2.park('suv132')\n",
    "lot1.unpark()\n",
    "lot1.park('suv1231')\n"
   ]
  },
  {
   "cell_type": "code",
   "execution_count": 14,
   "id": "fa44eb60",
   "metadata": {},
   "outputs": [],
   "source": [
    "class Book:\n",
    "    def __init__(self,ID,name,author):\n",
    "        self.ID = ID\n",
    "        self.name = name\n",
    "        self.author = author\n",
    "        self.cover = ''\n",
    "        self.price = 0\n",
    "        self.rating = 0\n",
    "        self.genre = ''\n",
    "    \n",
    "    def show(self):\n",
    "        pprint(self.__dict__)\n",
    "        \n",
    "    def edit(self,key,value):\n",
    "        if(key in dir(self)):\n",
    "            self.key = value\n",
    "        else:\n",
    "            print(f\"No {key} exists in 'self'\")\n",
    "            "
   ]
  },
  {
   "cell_type": "code",
   "execution_count": 15,
   "id": "bf24c0d3",
   "metadata": {},
   "outputs": [
    {
     "name": "stdout",
     "output_type": "stream",
     "text": [
      "{'ID': 1,\n",
      " 'author': 'Mr Adams',\n",
      " 'cover': '',\n",
      " 'genre': '',\n",
      " 'key': 'sci-fi,comdey,humor',\n",
      " 'name': 'HGTG',\n",
      " 'price': 0,\n",
      " 'rating': 0}\n"
     ]
    }
   ],
   "source": [
    "book1 = Book(1, 'HGTG','Mr Adams')\n",
    "book2 = Book(2, 'LOTR','J.R.R Tolkiens')\n",
    "book3 = Book(3, 'Mistborn','Mr Sanderson')\n",
    "\n",
    "book1.edit('price',100)\n",
    "book1.edit('genre','sci-fi,comdey,humor')\n",
    "book1.show()\n",
    "\n",
    "book2.edit('price',300)\n",
    "book3.edit('price',250)"
   ]
  },
  {
   "cell_type": "code",
   "execution_count": 31,
   "id": "e2c8ca78",
   "metadata": {},
   "outputs": [
    {
     "name": "stdout",
     "output_type": "stream",
     "text": [
      "1\n",
      "====books in reading====\n",
      "Mistborn\n",
      "====books to reading in future====\n",
      "HGTG\n",
      "LOTR\n",
      "====books red so far====\n",
      " ============ \n",
      "====books in reading====\n",
      "Mistborn\n",
      "====books to reading in future====\n",
      "HGTG\n",
      "====books red so far====\n",
      "LOTR\n"
     ]
    }
   ],
   "source": [
    "class Reader:\n",
    "    def __init__(self):\n",
    "        self.reading = {}\n",
    "        self.read = {}\n",
    "        self.toRead = {}\n",
    "        \n",
    "    def showList(self):\n",
    "        \n",
    "        print('====books in reading====')\n",
    "        for ID,book in self.reading.items():\n",
    "#             book.show()\n",
    "            print(book.name)\n",
    "            \n",
    "        print('====books to reading in future====')\n",
    "        for ID,book in self.toRead.items():\n",
    "\n",
    "#             book.show()\n",
    "            print(book.name)\n",
    "            \n",
    "        print('====books red so far====')\n",
    "        for ID,book in self.read.items():\n",
    "            print(book.name)\n",
    "#             book.show()  \n",
    "            \n",
    "    def removeFromRead(self, book):\n",
    "        if(book.ID in self.read):\n",
    "            del self.read[book.ID]\n",
    "        else:\n",
    "            return False\n",
    "        \n",
    "    def removeFromToRead(self,book):\n",
    "        if(book.ID in self.toRead):\n",
    "            del self.toRead[book.ID]\n",
    "        else:\n",
    "            return False\n",
    "\n",
    "    def removeFromReading(self,book):\n",
    "        if(book.ID in self.reading):\n",
    "            del self.reading[book.ID]\n",
    "        else:\n",
    "            return False        \n",
    "        \n",
    "    \n",
    "    def addToRead(self,book):\n",
    "        if(book.ID in self.toRead):\n",
    "            print(f'{book.name}  already in TO-READ list')\n",
    "        else:\n",
    "            self.toRead[book.ID] = book\n",
    "\n",
    "        self.removeFromReading(book)\n",
    "        self.removeFromRead(book)\n",
    "            \n",
    "    def addRead(self,book):\n",
    "        if(book.ID in self.read):\n",
    "            print(f'{book.name} already in READ list')\n",
    "        else:\n",
    "            self.read[book.ID] = book\n",
    "            \n",
    "        self.removeFromReading(book)\n",
    "        self.removeFromToRead(book)\n",
    "        \n",
    "    def addReading(self,book):\n",
    "        if(book.ID in self.reading):\n",
    "            print(f'{book.name} already in READING list')\n",
    "        else:\n",
    "            self.reading[book.ID] = book\n",
    "        \n",
    "        self.removeFromRead(book)\n",
    "        self.removeFromToRead(book)\n",
    "        \n",
    "    \n",
    "    def inReading(self,book):\n",
    "        return book.ID in self.reading\n",
    "    \n",
    "    def inRead(self,book):\n",
    "        return book.ID in self.read\n",
    "    \n",
    "    def inToRead(self,book):\n",
    "        return book.ID in self.toRead\n",
    "reader = Reader()\n",
    "print(book1.ID)\n",
    "reader.addToRead(book1)\n",
    "reader.addToRead(book2)\n",
    "reader.addToRead(book3)\n",
    "\n",
    "reader.addReading(book3)\n",
    "reader.showList()\n",
    "print(' ============ ')\n",
    "reader.addRead(book2)\n",
    "reader.showList()"
   ]
  },
  {
   "cell_type": "code",
   "execution_count": 55,
   "id": "ec672538",
   "metadata": {},
   "outputs": [
    {
     "name": "stdout",
     "output_type": "stream",
     "text": [
      "Current Dict is:  {'key1': 'geeks', 'key2': 'for'}\n",
      "{'key1': 'geeks', 'key2': 'for', 'kkk': 'vvv', 'key3': 'geeks', 'key4': 'is', 'key5': 'fabulous'}\n",
      "'key7' isn't present in {'key1': 'geeks', 'key2': 'for', 'kkk': 'vvv', 'key3': 'geeks', 'key4': 'is', 'key5': 'fabulous'}\n",
      "{'key1': 'geeks', 'key2': 'for', 'kkk': 'vvv', 'key3': 'geeks', 'key4': 'is', 'key5': 'fabulous', 'newkey1': 'portal'}\n",
      "False\n",
      "1\n"
     ]
    }
   ],
   "source": [
    "dict = {'key1':'geeks', 'key2':'for'} \n",
    "print(\"Current Dict is: \", dict) \n",
    "dict['kkk'] = 'vvv'\n",
    "# adding dict1 (key3, key4 and key5) to dict \n",
    "dict1 = {'key3':'geeks', 'key4':'is', 'key5':'fabulous'} \n",
    "dict.update(dict1) \n",
    "print(dict) \n",
    "if('key7' in dict):\n",
    "    del dict['key7']\n",
    "else:\n",
    "    print(f\"'key7' isn't present in {dict}\")\n",
    "    # by assigning \n",
    "dict.update(newkey1 ='portal') \n",
    "print(dict) \n",
    "print('portal' in dict)\n",
    "v = ([1, 2, 3], [3, 2, 1])\n",
    "print(v[0][0])"
   ]
  },
  {
   "cell_type": "code",
   "execution_count": null,
   "id": "2a128dc6",
   "metadata": {},
   "outputs": [],
   "source": []
  }
 ],
 "metadata": {
  "kernelspec": {
   "display_name": "Python 3",
   "language": "python",
   "name": "python3"
  },
  "language_info": {
   "codemirror_mode": {
    "name": "ipython",
    "version": 3
   },
   "file_extension": ".py",
   "mimetype": "text/x-python",
   "name": "python",
   "nbconvert_exporter": "python",
   "pygments_lexer": "ipython3",
   "version": "3.8.8"
  }
 },
 "nbformat": 4,
 "nbformat_minor": 5
}
