{
 "cells": [
  {
   "cell_type": "markdown",
   "id": "59ffb6a1",
   "metadata": {},
   "source": [
    "## Is Unique: \n",
    "Implement an algorithm to determine if a string has all unique characters. What if you\n",
    "cannot use additional data structures?"
   ]
  },
  {
   "cell_type": "code",
   "execution_count": 4,
   "id": "30e79cf8",
   "metadata": {},
   "outputs": [
    {
     "name": "stdout",
     "output_type": "stream",
     "text": [
      "h\n",
      "e\n",
      "l\n"
     ]
    },
    {
     "data": {
      "text/plain": [
       "False"
      ]
     },
     "execution_count": 4,
     "metadata": {},
     "output_type": "execute_result"
    }
   ],
   "source": [
    "# using arrays\n",
    "\n",
    "def isUnique(string):\n",
    "        \n",
    "    myList = []\n",
    "    for i in string:\n",
    "        if(i in myList):\n",
    "            return False\n",
    "        else:\n",
    "            myList.append(i)\n",
    "            \n",
    "        print(i)\n",
    "    return True\n",
    "    \n",
    "isUnique('hello')"
   ]
  },
  {
   "cell_type": "code",
   "execution_count": 13,
   "id": "aadd2610",
   "metadata": {},
   "outputs": [
    {
     "name": "stdout",
     "output_type": "stream",
     "text": [
      "['e', 'h', 'l', 'o']\n",
      "True\n",
      "['e', 'h', 'l', 'l', 'o']\n",
      "False\n"
     ]
    }
   ],
   "source": [
    "# sorting then checking adjacent chracters\n",
    "\n",
    "def isUnique2(string):\n",
    "    \n",
    "    string = sorted(string)\n",
    "    print(string)\n",
    "    \n",
    "    i , n = 0 , len(string)\n",
    "    while( i < ( n-1 ) ):\n",
    "        \n",
    "        # checking the adjacent sides\n",
    "        if(string[i] == string[i+1]):\n",
    "            #match found\n",
    "            return False\n",
    "        \n",
    "        i += 1\n",
    "        \n",
    "    return True\n",
    "        \n",
    "        \n",
    "print(isUnique2('helo'))\n",
    "print(isUnique2('hello'))"
   ]
  },
  {
   "cell_type": "code",
   "execution_count": 20,
   "id": "97acdda2",
   "metadata": {},
   "outputs": [
    {
     "name": "stdout",
     "output_type": "stream",
     "text": [
      "104\n",
      "101\n",
      "108\n",
      "108\n"
     ]
    },
    {
     "data": {
      "text/plain": [
       "False"
      ]
     },
     "execution_count": 20,
     "metadata": {},
     "output_type": "execute_result"
    }
   ],
   "source": [
    "# ord('a')\n",
    "\n",
    "# using character's INT value and saving that in new array\n",
    "\n",
    "def isUnique3(string):\n",
    "    \n",
    "    if (len(string)>128):\n",
    "        return False\n",
    "        \n",
    "    myList = [''] * 128\n",
    "        \n",
    "    for i in string:\n",
    "        print(ord(i))\n",
    "        \n",
    "        if(myList[ ord(i)]):\n",
    "            return False\n",
    "        else:\n",
    "            #updating the value to TRUE\n",
    "            myList[ ord(i)] = True\n",
    "        \n",
    "isUnique3('hello')\n"
   ]
  },
  {
   "cell_type": "markdown",
   "id": "964f1035",
   "metadata": {},
   "source": [
    "# without additional datastructure\n",
    "\n",
    "instead of arrays, we are now gonna use the bits of character\n",
    "thus ord('a') = 65(in decimals) =   0b1000001\n",
    "\n",
    "& the operator we using are\n",
    "\n",
    "`x << y` **Bitwise-Shit-LEFT** Returns x with the bits shifted to the left by y places (and new bits on the right-hand-side are zeros). This is the same as multiplying x by 2 ** y. \n",
    "\n",
    "`x | y` **bitwise OR**. Each bit of the output is 0 if the corresponding bit of x AND of y is 0, otherwise it's 1. \n",
    "\n",
    "`x & y` **bitwise AND** Each bit of the output is 1 if the corresponding bit of x AND of y is 1, otherwise it's 0. \n",
    "***\n",
    "\n",
    "So the idea is to treat the bits of INT variable as array\n",
    "\n",
    "Since, we are assuming:\n",
    "* the INT are stored in 32 bits, and \n",
    "* given string would have characters 'a' to 'z'\n",
    "\n",
    "so each bit is denoted the flag for each of character, \n",
    "\n",
    "bits can have:\n",
    "* 0 = False\n",
    "* 1 = True\n",
    "\n",
    "if the `bit is 0` (or False), we are encountering this character for the first time, and thus \n",
    "    change the bit to 1 (or True) at appropriate position\n",
    "    \n",
    "    `checker = checker | (1 << ord(character) - ord('a')`\n",
    "    \n",
    "else `bit is 1` (or True ), we have seen this character previously, \n",
    "    thus we break the loop"
   ]
  },
  {
   "cell_type": "code",
   "execution_count": 41,
   "id": "31649ff4",
   "metadata": {},
   "outputs": [
    {
     "name": "stdout",
     "output_type": "stream",
     "text": [
      "True\n"
     ]
    }
   ],
   "source": [
    "# without using additional datastructure\n",
    "\n",
    "def isUnique4(string):\n",
    "    \n",
    "    checker = 0\n",
    "    \n",
    "    n  = len(string)\n",
    "    \n",
    "    for i in range(n):\n",
    "        diff = ord(string[i]) - ord('a')\n",
    "        if ( checker  & ( 1 << diff )) > 0:\n",
    "            return False\n",
    "        \n",
    "        checker  |= ( 1 << diff )\n",
    "    \n",
    "    return True\n",
    "        \n",
    "s = \"abc\"\n",
    "print(isUnique4(s))\n",
    "    "
   ]
  },
  {
   "cell_type": "code",
   "execution_count": 35,
   "id": "a509fbd2",
   "metadata": {},
   "outputs": [
    {
     "name": "stdout",
     "output_type": "stream",
     "text": [
      "0b100\n"
     ]
    }
   ],
   "source": [
    "n = ord('c' ) - ord('a')\n",
    "a = 1 << n\n",
    "print(bin(a))"
   ]
  },
  {
   "cell_type": "code",
   "execution_count": 26,
   "id": "2fa8ec6d",
   "metadata": {},
   "outputs": [
    {
     "data": {
      "text/plain": [
       "'100101'"
      ]
     },
     "execution_count": 26,
     "metadata": {},
     "output_type": "execute_result"
    }
   ],
   "source": [
    "\"{0:b}\".format(37)"
   ]
  },
  {
   "cell_type": "code",
   "execution_count": 27,
   "id": "786c2c37",
   "metadata": {},
   "outputs": [
    {
     "data": {
      "text/plain": [
       "'0000000000001010'"
      ]
     },
     "execution_count": 27,
     "metadata": {},
     "output_type": "execute_result"
    }
   ],
   "source": [
    "format(10, '016b')\n"
   ]
  },
  {
   "cell_type": "markdown",
   "id": "543de00a",
   "metadata": {},
   "source": [
    "# Check Permutation\n",
    "when we say the permutation of string, it means `all sort of character arrangement`, where the \n",
    "    \n",
    "    length of original string = length of string with rearranged characters\n",
    "    \n",
    "    \n",
    "some example of permutation of string 'ABC' \n",
    "![permutation of ABC](https://media.geeksforgeeks.org/wp-content/cdn-uploads/NewPermutation.gif)"
   ]
  },
  {
   "cell_type": "code",
   "execution_count": 53,
   "id": "5c951899",
   "metadata": {},
   "outputs": [
    {
     "data": {
      "text/plain": [
       "False"
      ]
     },
     "execution_count": 53,
     "metadata": {},
     "output_type": "execute_result"
    }
   ],
   "source": [
    "def counter(string):\n",
    "    myDict = {}\n",
    "    for i in string:\n",
    "        \n",
    "        if i in myDict.keys():\n",
    "            myDict[i] += 1\n",
    "        else:\n",
    "            myDict[i] = 1\n",
    "    return myDict\n",
    "\n",
    "    \n",
    "def checkPermutation( string1 , string2 ):\n",
    "    myCounter1 = counter(string1)\n",
    "    myCounter2 = counter(string2)\n",
    "    return myCounter1 == myCounter2\n",
    "    \n",
    "    \n",
    "    \n",
    "checkPermutation('hello','olleb') # fn should returns True, which was wrong\n"
   ]
  },
  {
   "cell_type": "code",
   "execution_count": null,
   "id": "bc819432",
   "metadata": {},
   "outputs": [],
   "source": []
  },
  {
   "cell_type": "code",
   "execution_count": null,
   "id": "4488e950",
   "metadata": {},
   "outputs": [],
   "source": []
  }
 ],
 "metadata": {
  "kernelspec": {
   "display_name": "Python 3",
   "language": "python",
   "name": "python3"
  },
  "language_info": {
   "codemirror_mode": {
    "name": "ipython",
    "version": 3
   },
   "file_extension": ".py",
   "mimetype": "text/x-python",
   "name": "python",
   "nbconvert_exporter": "python",
   "pygments_lexer": "ipython3",
   "version": "3.6.13"
  }
 },
 "nbformat": 4,
 "nbformat_minor": 5
}
