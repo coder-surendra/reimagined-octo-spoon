{
 "cells": [
  {
   "cell_type": "markdown",
   "id": "59ffb6a1",
   "metadata": {},
   "source": [
    "## Is Unique: \n",
    "Implement an algorithm to determine if a string has all unique characters. What if you\n",
    "cannot use additional data structures?"
   ]
  },
  {
   "cell_type": "code",
   "execution_count": 36,
   "id": "30e79cf8",
   "metadata": {},
   "outputs": [
    {
     "name": "stdout",
     "output_type": "stream",
     "text": [
      "h\n",
      "e\n",
      "l\n"
     ]
    },
    {
     "data": {
      "text/plain": [
       "False"
      ]
     },
     "execution_count": 36,
     "metadata": {},
     "output_type": "execute_result"
    }
   ],
   "source": [
    "# using arrays\n",
    "\n",
    "def isUnique(string):\n",
    "        \n",
    "    myList = []\n",
    "    for i in string:\n",
    "        if(i in myList):\n",
    "            return False\n",
    "        else:\n",
    "            myList.append(i)\n",
    "            \n",
    "        print(i)\n",
    "    return True\n",
    "    \n",
    "isUnique('hello')"
   ]
  },
  {
   "cell_type": "code",
   "execution_count": 37,
   "id": "aadd2610",
   "metadata": {},
   "outputs": [
    {
     "name": "stdout",
     "output_type": "stream",
     "text": [
      "['e', 'h', 'l', 'o']\n",
      "True\n",
      "['e', 'h', 'l', 'l', 'o']\n",
      "False\n"
     ]
    }
   ],
   "source": [
    "# sorting then checking adjacent chracters\n",
    "\n",
    "def isUnique2(string):\n",
    "    \n",
    "    string = sorted(string)\n",
    "    print(string)\n",
    "    \n",
    "    i , n = 0 , len(string)\n",
    "    while( i < ( n-1 ) ):\n",
    "        \n",
    "        # checking the adjacent sides\n",
    "        if(string[i] == string[i+1]):\n",
    "            #match found\n",
    "            return False\n",
    "        \n",
    "        i += 1\n",
    "        \n",
    "    return True\n",
    "        \n",
    "        \n",
    "print(isUnique2('helo'))\n",
    "print(isUnique2('hello'))"
   ]
  },
  {
   "cell_type": "code",
   "execution_count": 38,
   "id": "97acdda2",
   "metadata": {},
   "outputs": [
    {
     "name": "stdout",
     "output_type": "stream",
     "text": [
      "104\n",
      "101\n",
      "108\n",
      "108\n"
     ]
    },
    {
     "data": {
      "text/plain": [
       "False"
      ]
     },
     "execution_count": 38,
     "metadata": {},
     "output_type": "execute_result"
    }
   ],
   "source": [
    "# ord('a')\n",
    "\n",
    "# using character's INT value and saving that in new array\n",
    "\n",
    "def isUnique3(string):\n",
    "    \n",
    "    if (len(string)>128):\n",
    "        return False\n",
    "        \n",
    "    myList = [''] * 128\n",
    "        \n",
    "    for i in string:\n",
    "        print(ord(i))\n",
    "        \n",
    "        if(myList[ ord(i)]):\n",
    "            return False\n",
    "        else:\n",
    "            #updating the value to TRUE\n",
    "            myList[ ord(i)] = True\n",
    "        \n",
    "isUnique3('hello')\n"
   ]
  },
  {
   "cell_type": "markdown",
   "id": "964f1035",
   "metadata": {},
   "source": [
    "# without additional datastructure\n",
    "\n",
    "instead of arrays, we are now gonna use the bits of character\n",
    "thus ord('a') = 65(in decimals) =   0b1000001\n",
    "\n",
    "& the operator we using are\n",
    "\n",
    "`x << y` **Bitwise-Shit-LEFT** Returns x with the bits shifted to the left by y places (and new bits on the right-hand-side are zeros). This is the same as multiplying x by 2 ** y. \n",
    "\n",
    "`x | y` **bitwise OR**. Each bit of the output is 0 if the corresponding bit of x AND of y is 0, otherwise it's 1. \n",
    "\n",
    "`x & y` **bitwise AND** Each bit of the output is 1 if the corresponding bit of x AND of y is 1, otherwise it's 0. \n",
    "***\n",
    "\n",
    "So the idea is to treat the bits of INT variable as array\n",
    "\n",
    "Since, we are assuming:\n",
    "* the INT are stored in 32 bits, and \n",
    "* given string would have characters 'a' to 'z'\n",
    "\n",
    "so each bit is denoted the flag for each of character, \n",
    "\n",
    "bits can have:\n",
    "* 0 = False\n",
    "* 1 = True\n",
    "\n",
    "if the `bit is 0` (or False), we are encountering this character for the first time, and thus \n",
    "    change the bit to 1 (or True) at appropriate position\n",
    "    \n",
    "    `checker = checker | (1 << ord(character) - ord('a')`\n",
    "    \n",
    "else `bit is 1` (or True ), we have seen this character previously, \n",
    "    thus we break the loop"
   ]
  },
  {
   "cell_type": "code",
   "execution_count": 50,
   "id": "31649ff4",
   "metadata": {},
   "outputs": [
    {
     "name": "stdout",
     "output_type": "stream",
     "text": [
      "True\n"
     ]
    }
   ],
   "source": [
    "# without using additional datastructure\n",
    "\n",
    "def isUnique4(string):\n",
    "    \n",
    "    checker = 0\n",
    "    \n",
    "    n  = len(string)\n",
    "    \n",
    "    for i in range(n):\n",
    "        diff = ord(string[i]) - ord('a')\n",
    "        if ( checker  & ( 1 << diff )) > 0:\n",
    "            return False\n",
    "        \n",
    "        checker  |= ( 1 << diff )\n",
    "    \n",
    "    return True\n",
    "        \n",
    "s = \"abc\"\n",
    "print(isUnique4(s))\n",
    "    "
   ]
  },
  {
   "cell_type": "code",
   "execution_count": 51,
   "id": "a509fbd2",
   "metadata": {},
   "outputs": [
    {
     "name": "stdout",
     "output_type": "stream",
     "text": [
      "0b100\n"
     ]
    }
   ],
   "source": [
    "n = ord('c' ) - ord('a')\n",
    "a = 1 << n\n",
    "print(bin(a))"
   ]
  },
  {
   "cell_type": "code",
   "execution_count": 41,
   "id": "2fa8ec6d",
   "metadata": {},
   "outputs": [
    {
     "data": {
      "text/plain": [
       "'100101'"
      ]
     },
     "execution_count": 41,
     "metadata": {},
     "output_type": "execute_result"
    }
   ],
   "source": [
    "\"{0:b}\".format(37)"
   ]
  },
  {
   "cell_type": "code",
   "execution_count": 42,
   "id": "786c2c37",
   "metadata": {},
   "outputs": [
    {
     "data": {
      "text/plain": [
       "'0000000000001010'"
      ]
     },
     "execution_count": 42,
     "metadata": {},
     "output_type": "execute_result"
    }
   ],
   "source": [
    "format(10, '016b')\n"
   ]
  },
  {
   "cell_type": "code",
   "execution_count": 43,
   "id": "5c951899",
   "metadata": {},
   "outputs": [
    {
     "data": {
      "text/plain": [
       "False"
      ]
     },
     "execution_count": 43,
     "metadata": {},
     "output_type": "execute_result"
    }
   ],
   "source": [
    "def counter(string):\n",
    "    myDict = {}\n",
    "    for i in string:\n",
    "        \n",
    "        if i in myDict.keys():\n",
    "            myDict[i] += 1\n",
    "        else:\n",
    "            myDict[i] = 1\n",
    "    return myDict\n",
    "\n",
    "    \n",
    "def checkPermutation( string1 , string2 ):\n",
    "    myCounter1 = counter(string1)\n",
    "    myCounter2 = counter(string2)\n",
    "    return myCounter1 == myCounter2\n",
    "    \n",
    "    \n",
    "    \n",
    "checkPermutation('hello','olleb') # fn should returns True, which was wrong\n"
   ]
  },
  {
   "cell_type": "markdown",
   "id": "59419728",
   "metadata": {},
   "source": [
    "# URLify: \n",
    "Write a method to replace all spaces in a string with '%20'. "
   ]
  },
  {
   "cell_type": "code",
   "execution_count": 44,
   "id": "60e1dd4e",
   "metadata": {},
   "outputs": [
    {
     "name": "stdout",
     "output_type": "stream",
     "text": [
      "mr john smith     \n",
      "mr%20john%20smith\n"
     ]
    }
   ],
   "source": [
    "# we convert string -> list\n",
    "# perform list.join\n",
    "\n",
    "def URLify1(string):\n",
    "    \n",
    "    string = string.strip()  # to clear the empty spaces from start or end of string\n",
    "    myList = string.split(\" \")\n",
    "    newString = '%20'.join(myList)\n",
    "    \n",
    "    return newString\n",
    "\n",
    "\n",
    "string = 'mr john smith     '\n",
    "\n",
    "print(string)\n",
    "print(URLify1(string))\n"
   ]
  },
  {
   "cell_type": "code",
   "execution_count": 45,
   "id": "fedbc58f",
   "metadata": {},
   "outputs": [
    {
     "name": "stdout",
     "output_type": "stream",
     "text": [
      "0 Mr John Smith    \n",
      "1 Mr John Smith    \n",
      "2 Mr%20John Smith  \n",
      "3 Mr%20John Smith  \n",
      "4 Mr%20John Smith  \n",
      "5 Mr%20John Smith  \n",
      "6 Mr%20John Smith  \n",
      "7 Mr%20John Smith  \n",
      "8 Mr%20John Smith  \n",
      "9 Mr%20John%20Smith\n",
      "10 Mr%20John%20Smith\n",
      "11 Mr%20John%20Smith\n",
      "12 Mr%20John%20Smith\n",
      "13 Mr%20John%20Smith\n",
      "14 Mr%20John%20Smith\n",
      "15 Mr%20John%20Smith\n",
      "16 Mr%20John%20Smith\n"
     ]
    },
    {
     "data": {
      "text/plain": [
       "'Mr%20John%20Smith'"
      ]
     },
     "execution_count": 45,
     "metadata": {},
     "output_type": "execute_result"
    }
   ],
   "source": [
    "def URLify2(string,length):\n",
    "    spaceCount = 0\n",
    "    for i in range(len(string)):\n",
    "       \n",
    "        if(string[i] == ' '):\n",
    "            string = string[:i] + '%20' + string[i+1:]\n",
    "            #now we remove the last 3 character\n",
    "            string = string[:-2]\n",
    "            \n",
    "        print(str(i) + ' ' + string)\n",
    "        \n",
    "    return string\n",
    "\n",
    "        \n",
    "\n",
    "\n",
    "string = 'Mr John Smith    '\n",
    "\n",
    "URLify2(string,13)"
   ]
  },
  {
   "cell_type": "markdown",
   "id": "4061c6e6",
   "metadata": {},
   "source": [
    "In the above approach , we didn't use the TRUE LENGTH of the string,\n",
    "***\n",
    "So now, we are going to trying to solve this problem using only loops\n",
    "\n",
    "HINTS:\n",
    "* It's often easiest to modify strings by going from the end of the string to the beginning\n",
    "* You might find you need to know the number of spaces. Can you just count them?"
   ]
  },
  {
   "cell_type": "code",
   "execution_count": 46,
   "id": "95285fe8",
   "metadata": {},
   "outputs": [
    {
     "name": "stdout",
     "output_type": "stream",
     "text": [
      "0\n",
      "whitespace not found\n",
      "1\n",
      "whitespace not found\n",
      "2\n"
     ]
    },
    {
     "ename": "TypeError",
     "evalue": "'str' object does not support item assignment",
     "output_type": "error",
     "traceback": [
      "\u001b[1;31m---------------------------------------------------------------------------\u001b[0m",
      "\u001b[1;31mTypeError\u001b[0m                                 Traceback (most recent call last)",
      "\u001b[1;32m<ipython-input-46-fc6a46d2db16>\u001b[0m in \u001b[0;36m<module>\u001b[1;34m\u001b[0m\n\u001b[0;32m     24\u001b[0m \u001b[0mstring\u001b[0m \u001b[1;33m=\u001b[0m \u001b[1;34m'Mr John Smith    '\u001b[0m\u001b[1;33m\u001b[0m\u001b[1;33m\u001b[0m\u001b[0m\n\u001b[0;32m     25\u001b[0m \u001b[1;33m\u001b[0m\u001b[0m\n\u001b[1;32m---> 26\u001b[1;33m \u001b[0mURLify3\u001b[0m\u001b[1;33m(\u001b[0m\u001b[0mstring\u001b[0m\u001b[1;33m,\u001b[0m\u001b[1;36m13\u001b[0m\u001b[1;33m)\u001b[0m\u001b[1;33m\u001b[0m\u001b[1;33m\u001b[0m\u001b[0m\n\u001b[0m\u001b[0;32m     27\u001b[0m \u001b[1;33m\u001b[0m\u001b[0m\n",
      "\u001b[1;32m<ipython-input-46-fc6a46d2db16>\u001b[0m in \u001b[0;36mURLify3\u001b[1;34m(string, trueLength)\u001b[0m\n\u001b[0;32m      9\u001b[0m             \u001b[0mj\u001b[0m \u001b[1;33m=\u001b[0m \u001b[0mn\u001b[0m \u001b[1;33m-\u001b[0m \u001b[1;36m1\u001b[0m\u001b[1;33m\u001b[0m\u001b[1;33m\u001b[0m\u001b[0m\n\u001b[0;32m     10\u001b[0m             \u001b[1;32mwhile\u001b[0m\u001b[1;33m(\u001b[0m \u001b[0mj\u001b[0m \u001b[1;33m>\u001b[0m \u001b[0mi\u001b[0m \u001b[1;33m)\u001b[0m\u001b[1;33m:\u001b[0m\u001b[1;33m\u001b[0m\u001b[1;33m\u001b[0m\u001b[0m\n\u001b[1;32m---> 11\u001b[1;33m                 \u001b[0mstring\u001b[0m\u001b[1;33m[\u001b[0m\u001b[0mj\u001b[0m\u001b[1;33m]\u001b[0m \u001b[1;33m=\u001b[0m \u001b[0mstring\u001b[0m\u001b[1;33m[\u001b[0m\u001b[0mj\u001b[0m\u001b[1;33m-\u001b[0m\u001b[1;36m2\u001b[0m\u001b[1;33m]\u001b[0m\u001b[1;33m\u001b[0m\u001b[1;33m\u001b[0m\u001b[0m\n\u001b[0m\u001b[0;32m     12\u001b[0m                 \u001b[0mj\u001b[0m \u001b[1;33m-=\u001b[0m \u001b[1;36m1\u001b[0m\u001b[1;33m\u001b[0m\u001b[1;33m\u001b[0m\u001b[0m\n\u001b[0;32m     13\u001b[0m \u001b[1;33m\u001b[0m\u001b[0m\n",
      "\u001b[1;31mTypeError\u001b[0m: 'str' object does not support item assignment"
     ]
    }
   ],
   "source": [
    "def URLify3(string,trueLength):\n",
    "    \n",
    "    i,j = 0,0\n",
    "    n = len(string)\n",
    "    for i in range(n):\n",
    "        print(i)\n",
    "        if(string[i] == ' '):\n",
    "            # we try to solve to copy character i->n from backwards\n",
    "            j = n - 1\n",
    "            while( j > i ):\n",
    "                string[j] = string[j-2]\n",
    "                j -= 1\n",
    "            \n",
    "            string[i] = '%'\n",
    "            string[i + 1] = '2'\n",
    "            string[i + 2] = '0'\n",
    "            \n",
    "            i += 2\n",
    "            \n",
    "            print(string)\n",
    "        else :\n",
    "            print('whitespace not found')\n",
    "            \n",
    "string = 'Mr John Smith    '\n",
    "\n",
    "URLify3(string,13) \n",
    "\n"
   ]
  },
  {
   "cell_type": "markdown",
   "id": "951bab57",
   "metadata": {},
   "source": [
    "\n",
    "***\n",
    "# TIL : you can't modifiy the contents of string\n",
    "***"
   ]
  },
  {
   "cell_type": "code",
   "execution_count": 52,
   "id": "6930d4dc",
   "metadata": {},
   "outputs": [
    {
     "ename": "TypeError",
     "evalue": "'str' object does not support item assignment",
     "output_type": "error",
     "traceback": [
      "\u001b[1;31m---------------------------------------------------------------------------\u001b[0m",
      "\u001b[1;31mTypeError\u001b[0m                                 Traceback (most recent call last)",
      "\u001b[1;32m<ipython-input-52-50a9fef3d300>\u001b[0m in \u001b[0;36m<module>\u001b[1;34m\u001b[0m\n\u001b[0;32m      1\u001b[0m \u001b[0mstring\u001b[0m \u001b[1;33m=\u001b[0m \u001b[1;34m'Mr John Smith    '\u001b[0m\u001b[1;33m\u001b[0m\u001b[1;33m\u001b[0m\u001b[0m\n\u001b[1;32m----> 2\u001b[1;33m \u001b[0mstring\u001b[0m\u001b[1;33m[\u001b[0m\u001b[1;36m0\u001b[0m\u001b[1;33m]\u001b[0m \u001b[1;33m=\u001b[0m\u001b[1;34m'a'\u001b[0m\u001b[1;33m\u001b[0m\u001b[1;33m\u001b[0m\u001b[0m\n\u001b[0m",
      "\u001b[1;31mTypeError\u001b[0m: 'str' object does not support item assignment"
     ]
    }
   ],
   "source": [
    "string = 'Mr John Smith    '\n",
    "string[0] ='a'"
   ]
  },
  {
   "cell_type": "markdown",
   "id": "8c48b0bd",
   "metadata": {},
   "source": [
    "# Palindrome Permutation: \n",
    "Given a string, write a function to check if it is a permutation of a palindrome.\n",
    "A palindrome is a word or phrase that is the same forwards and backwards. \n",
    "A permutation is a rearrangement of letters. The palindrome does not need to be limited to just dictionary words.\n",
    "\n",
    "***\n",
    "### HINTS\n",
    "\n",
    "106. You do not have to-and should not-generate all permutations. This would be very inefficient.\n",
    "121. What characteristics would a string that is a permutation of a palindrome have?\n",
    "134. Have you tried a hash table? You should be able to get this down to 0( N) time.\n",
    "136. Can you reduce the space usage by using a bit vector?\n"
   ]
  },
  {
   "cell_type": "markdown",
   "id": "f5b2a1f0",
   "metadata": {},
   "source": [
    "using the HINT # 106, \n",
    "we can see that a plaindrome has following property :\n",
    "* count of all character  even\n",
    "* count of atmost 1 character is odd"
   ]
  },
  {
   "cell_type": "code",
   "execution_count": null,
   "id": "0961c8ca",
   "metadata": {},
   "outputs": [],
   "source": [
    "a = 'ABC'\n",
    "print(a[0:0])\n",
    "b = 'BC'\n",
    "print(b[2:0])\n",
    "\n",
    "c = 'C'\n",
    "print(c[1:0])"
   ]
  },
  {
   "cell_type": "code",
   "execution_count": null,
   "id": "b3b143d6",
   "metadata": {},
   "outputs": [],
   "source": [
    "def checkPalindrome(string):\n",
    "    i,j = 0, len(string)-1\n",
    "    flag = True\n",
    "    while( i <= j ):\n",
    "        if(string[i] != string[j]):\n",
    "            return False\n",
    "        else:\n",
    "            i += 1\n",
    "            j -= 1\n",
    "    return True\n",
    "\n",
    "checkPalindrome('abc cba')"
   ]
  },
  {
   "cell_type": "markdown",
   "id": "9da941a8",
   "metadata": {},
   "source": [
    "mannual execution of  permutation function \n",
    "\n",
    "![title](images/permutations_of_string.png)"
   ]
  },
  {
   "cell_type": "code",
   "execution_count": 48,
   "id": "101397e5",
   "metadata": {},
   "outputs": [
    {
     "name": "stdout",
     "output_type": "stream",
     "text": [
      "permutation( BC , A )\n",
      "permutation( C , AB )\n",
      "permutation(  , ABC )\n",
      "ABC\n",
      "permutation( B , AC )\n",
      "permutation(  , ACB )\n",
      "ACB\n",
      "permutation( AC , B )\n",
      "permutation( C , BA )\n",
      "permutation(  , BAC )\n",
      "BAC\n",
      "permutation( A , BC )\n",
      "permutation(  , BCA )\n",
      "BCA\n",
      "permutation( AB , C )\n",
      "permutation( B , CA )\n",
      "permutation(  , CAB )\n",
      "CAB\n",
      "permutation( A , CB )\n",
      "permutation(  , CBA )\n",
      "CBA\n"
     ]
    }
   ],
   "source": [
    "def permutations(remaining, candidate=\"\"):\n",
    "    if len(remaining) == 0:\n",
    "        print(candidate)\n",
    " \n",
    "    for i in range(len(remaining)):\n",
    "        newCandidate = candidate + remaining[i]\n",
    "        newRemaining = remaining[0:i] + remaining[i+1:]\n",
    "        \n",
    "        print('permutation( '+ newRemaining + ' , ' + newCandidate +' )'  )\n",
    "        permutations(newRemaining, newCandidate)\n",
    " \n",
    " \n",
    "if __name__ == '__main__':\n",
    " \n",
    "    s = \"ABC\"\n",
    "    permutations(s)"
   ]
  },
  {
   "cell_type": "code",
   "execution_count": 49,
   "id": "08b94c83",
   "metadata": {},
   "outputs": [
    {
     "name": "stdout",
     "output_type": "stream",
     "text": [
      "a\n",
      "a\n",
      "continuing, since a is in \n",
      "['a']\n",
      "a\n",
      "continuing, since a is in \n",
      "['a']\n",
      "b\n",
      "b has even count\n",
      "b\n",
      "continuing, since b is in \n",
      "['a', 'b']\n",
      "a\n",
      "continuing, since a is in \n",
      "['a', 'b']\n",
      "a\n",
      "continuing, since a is in \n",
      "['a', 'b']\n",
      "True\n"
     ]
    }
   ],
   "source": [
    " \n",
    "def checkPalindromePermutation(string):\n",
    "        \n",
    "    oddCount = 0\n",
    "    n = len(string)\n",
    "    characterEncountered = []\n",
    "    \n",
    "    for i in range(n):\n",
    "        character = string[i]\n",
    "        print(character)\n",
    "        \n",
    "        # checking if we already have seen this character before or not\n",
    "        if(character in characterEncountered): \n",
    "            \n",
    "            print('continuing, since '+character+ ' is in ')\n",
    "            print(characterEncountered)\n",
    "            continue\n",
    "            \n",
    "        if( string.count(character) %2 == 1 ):\n",
    "            if(oddCount == 0):\n",
    "                # we encountering a character with odd count for first time\n",
    "                oddCount += 1\n",
    "                characterEncountered.append(character)\n",
    "            else:\n",
    "                return False\n",
    "        else:\n",
    "            #the count is even , we are good to add to list of encounteredCharacter\n",
    "            characterEncountered.append(character)\n",
    "            print(string[i] + ' has even count')\n",
    "\n",
    "    return True\n",
    "\n",
    "        \n",
    "print(checkPalindromePermutation('aaabbaa'))                \n",
    "            \n",
    "        "
   ]
  },
  {
   "cell_type": "markdown",
   "id": "fdf4b8cb",
   "metadata": {},
   "source": [
    "***\n",
    "# One Away\n",
    "There are three types of edits that can be performed on strings: insert a character,\n",
    "remove a character, or replace a character. Given two strings, write a function to check if they are\n",
    "one edit (or zero edits) away.\n",
    "\n",
    "EXAMPLE\n",
    "* pale, ple -> true\n",
    "* pales, pale -> true\n",
    "* pale, bale -> true\n",
    "* pale, bake -> false\n",
    "***\n",
    "\n",
    "### HINTS\n",
    "* Start with the easy thing. Can you check each of the conditions separately?\n",
    "* What is the relationship between the \"insert character\" option and the \"remove character\" option? Do these need to be two separate checks?\n",
    "* Can you do all three checks in a single pass?"
   ]
  },
  {
   "cell_type": "code",
   "execution_count": 47,
   "id": "45f4991f",
   "metadata": {},
   "outputs": [
    {
     "name": "stdout",
     "output_type": "stream",
     "text": [
      "too much difference\n"
     ]
    },
    {
     "data": {
      "text/plain": [
       "False"
      ]
     },
     "execution_count": 47,
     "metadata": {},
     "output_type": "execute_result"
    }
   ],
   "source": [
    "def checkChange(string1, string2):\n",
    "    '''\n",
    "    len(string2) > len(string1)\n",
    "    \n",
    "    since we are checking insertion, we assume\n",
    "    len(newString) - len(oldString) = 1 \n",
    "    '''\n",
    "    count = 0\n",
    "    for i in range(len(string2)):\n",
    "        if(string2[i] not in string1):\n",
    "            count += 1\n",
    "            if( count > 1):\n",
    "                return False\n",
    "    \n",
    "    return True\n",
    "\n",
    "        \n",
    "\n",
    "def checkOperation(oldString, newString):\n",
    "    \n",
    "    # we compare the string lengths and determine, which operation was performed\n",
    "    diff = len(oldString) - len(newString)\n",
    "    \n",
    "    if(diff ==  1):\n",
    "        # chances are the remove operation was performed\n",
    "        # need to check for character\n",
    "        print('in remove')\n",
    "        \n",
    "        return checkChange(newString, oldString)\n",
    "    \n",
    "    elif(diff == 0):\n",
    "        \n",
    "        #edit might have been performed, need to confirm\n",
    "        # it doesn't matter in which order we send them\n",
    "        print('in edit')\n",
    "        return checkChange(oldString, newString)\n",
    "    \n",
    "    elif(diff == -1):\n",
    "        \n",
    "        # newString has more character than oldString, thus insert was performed\n",
    "        print('in insert')\n",
    "        \n",
    "        return checkChange(oldString, newString)\n",
    " \n",
    "    else:\n",
    "        \n",
    "        # difference is too much, \n",
    "        print('too much difference')\n",
    "        \n",
    "        return False\n",
    "    \n",
    "    \n",
    "# TODO, all three operations can be operated in 1 function   \n",
    "\n",
    "checkOperation('pale','pa')"
   ]
  },
  {
   "cell_type": "markdown",
   "id": "f4e75d4a",
   "metadata": {},
   "source": [
    "## String Compression\n",
    "Implement a method to perform basic string compression using the counts\n",
    "of repeated characters. For example, the string aabcccccaaa would become a2blc5a3. If the\n",
    "\"compressed\" string would not become smaller than the original string, your method should return\n",
    "the original string. You can assume the string has only uppercase and lowercase letters (a - z)."
   ]
  },
  {
   "cell_type": "code",
   "execution_count": 71,
   "id": "a3686034",
   "metadata": {},
   "outputs": [
    {
     "name": "stdout",
     "output_type": "stream",
     "text": [
      "----------\n",
      " i =  0\n",
      "character = a\n",
      " j =  0\n",
      " j =  1\n",
      " JJ =  1\n",
      " II =  1\n",
      "1 COMPRESSED = a2\n",
      "----------\n",
      " i =  1\n",
      "character = a\n",
      "1 COMPRESSED = a2a1\n",
      "----------\n",
      " i =  2\n",
      "character = b\n",
      "1 COMPRESSED = a2a1b1\n",
      "----------\n",
      " i =  3\n",
      "character = c\n",
      " j =  3\n",
      " j =  4\n",
      " j =  5\n",
      " j =  6\n",
      " j =  7\n",
      " JJ =  7\n",
      " II =  7\n",
      "7 COMPRESSED = a2a1b1c5\n",
      "----------\n",
      " i =  4\n",
      "character = c\n",
      " j =  4\n",
      " j =  5\n",
      " j =  6\n",
      " j =  7\n",
      " JJ =  7\n",
      " II =  7\n",
      "7 COMPRESSED = a2a1b1c5c4\n",
      "----------\n",
      " i =  5\n",
      "character = c\n",
      " j =  5\n",
      " j =  6\n",
      " j =  7\n",
      " JJ =  7\n",
      " II =  7\n",
      "7 COMPRESSED = a2a1b1c5c4c3\n",
      "----------\n",
      " i =  6\n",
      "character = c\n",
      " j =  6\n",
      " j =  7\n",
      " JJ =  7\n",
      " II =  7\n",
      "7 COMPRESSED = a2a1b1c5c4c3c2\n",
      "----------\n",
      " i =  7\n",
      "character = c\n",
      "7 COMPRESSED = a2a1b1c5c4c3c2c1\n",
      "----------\n",
      " i =  8\n",
      "character = a\n",
      " j =  8\n",
      " j =  9\n",
      " JJ =  9\n",
      " II =  9\n",
      "9 COMPRESSED = a2a1b1c5c4c3c2c1a3\n",
      "----------\n",
      " i =  9\n",
      "character = a\n",
      " j =  9\n",
      " JJ =  9\n",
      " II =  9\n",
      "9 COMPRESSED = a2a1b1c5c4c3c2c1a3a2\n",
      "a2a1b1c5c4c3c2c1a3a2\n"
     ]
    }
   ],
   "source": [
    "def stringCompress1(string):\n",
    "        \n",
    "    compressed = ''\n",
    "    n = len(string)-1\n",
    "    i,j = 0,0\n",
    "    \n",
    "    for i in range(n):\n",
    "        character = string[i]\n",
    "        count = 1\n",
    "        print('----------')\n",
    "        print(' i = ',i)\n",
    "        print('character = '+character)\n",
    "        if(character == string[ i + 1]):\n",
    "            \n",
    "            for j in range(i,n):\n",
    "                print(' j = ',j)\n",
    "                if string[j] == string[j + 1]:\n",
    "                    count += 1\n",
    "                else:\n",
    "                    break\n",
    "            \n",
    "            i = j\n",
    "            print(' JJ = ',j)\n",
    "            print(' II = ',i)\n",
    "         \n",
    "\n",
    "        compressed += character + str(count)\n",
    "        print(j,'COMPRESSED = '+compressed)\n",
    "    print(compressed)\n",
    "    \n",
    "        \n",
    "stringCompress1('aabcccccaaa')"
   ]
  },
  {
   "cell_type": "code",
   "execution_count": 5,
   "id": "642bb861",
   "metadata": {},
   "outputs": [
    {
     "name": "stdout",
     "output_type": "stream",
     "text": [
      " j =  0\n",
      " j =  1\n",
      " j =  2\n",
      " j =  3\n",
      " j =  4\n",
      " JJ =  4\n",
      " II =  4\n",
      "4 COMPRESSED = a5\n",
      " j =  5\n",
      " j =  6\n",
      " j =  7\n",
      " JJ =  7\n",
      " II =  7\n",
      "7 COMPRESSED = a5b3\n",
      "a5b3\n"
     ]
    }
   ],
   "source": [
    "def stringCompress(string):\n",
    "    \n",
    "    compressed = ''\n",
    "    n = len(string)-1\n",
    "    i,j = 0,0\n",
    "    \n",
    "    while(i < n):\n",
    "        character = string[i]\n",
    "        count = 1\n",
    "        \n",
    "        if(character == string[ i + 1]):\n",
    "            \n",
    "            j = i\n",
    "            \n",
    "            while(j < n):\n",
    "                print(' j = ',j)\n",
    "                if string[j] == string[j + 1]:\n",
    "                    count += 1\n",
    "                else:\n",
    "                    break\n",
    "                j += 1    \n",
    "\n",
    "            \n",
    "            i = j\n",
    "            print(' JJ = ',j)\n",
    "            print(' II = ',i)\n",
    "      \n",
    "        i += 1\n",
    "\n",
    "        compressed += character + str(count)\n",
    "        \n",
    "        print(j,'COMPRESSED = '+compressed)\n",
    "    \n",
    "    \n",
    "    if(len(string) < len(compressed)):\n",
    "        return string\n",
    "    else:\n",
    "        return compressed\n",
    "    \n",
    "print(stringCompress('aaaaabbbc'))"
   ]
  },
  {
   "cell_type": "code",
   "execution_count": null,
   "id": "8c6cf4ff",
   "metadata": {},
   "outputs": [],
   "source": []
  }
 ],
 "metadata": {
  "kernelspec": {
   "display_name": "Python 3",
   "language": "python",
   "name": "python3"
  },
  "language_info": {
   "codemirror_mode": {
    "name": "ipython",
    "version": 3
   },
   "file_extension": ".py",
   "mimetype": "text/x-python",
   "name": "python",
   "nbconvert_exporter": "python",
   "pygments_lexer": "ipython3",
   "version": "3.8.8"
  }
 },
 "nbformat": 4,
 "nbformat_minor": 5
}
