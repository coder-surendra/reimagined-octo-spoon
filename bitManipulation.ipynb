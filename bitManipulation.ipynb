{
 "cells": [
  {
   "cell_type": "markdown",
   "id": "926473bd",
   "metadata": {},
   "source": [
    "unsolved problems:\n",
    "    flip to win\n",
    "    "
   ]
  },
  {
   "cell_type": "code",
   "execution_count": 4,
   "id": "7fa5d344",
   "metadata": {},
   "outputs": [
    {
     "name": "stdout",
     "output_type": "stream",
     "text": [
      "0b1000\n"
     ]
    }
   ],
   "source": [
    "print(bin(1<<3))\n"
   ]
  },
  {
   "cell_type": "code",
   "execution_count": 13,
   "id": "e0b964a5",
   "metadata": {},
   "outputs": [
    {
     "name": "stdout",
     "output_type": "stream",
     "text": [
      "-0b1001\n"
     ]
    }
   ],
   "source": [
    "def clearBit(num,i):\n",
    "    '''\n",
    "        we need to clear the bit at i-th position, this we need a mask with\n",
    "        0 at ith position and \n",
    "        1 at other position,\n",
    "        \n",
    "        We then perform : num AND mask\n",
    "    '''\n",
    "    mask = ~ ( 1 << i)\n",
    "    return mask ^ num\n",
    "\n",
    "# a = bin(num)\n",
    "# a = \"{0:b}\".format(10)\n",
    "# print(a)\n",
    "print(bin(clearBit(10,1)))"
   ]
  },
  {
   "cell_type": "code",
   "execution_count": 19,
   "id": "b39caf79",
   "metadata": {},
   "outputs": [
    {
     "data": {
      "text/plain": [
       "'11101010'"
      ]
     },
     "execution_count": 19,
     "metadata": {},
     "output_type": "execute_result"
    }
   ],
   "source": [
    "# bin(0.4)\n",
    "\n",
    "\"{0:b}\".format(234)"
   ]
  },
  {
   "cell_type": "code",
   "execution_count": 14,
   "id": "b9159dd5",
   "metadata": {},
   "outputs": [
    {
     "data": {
      "text/plain": [
       "'0b101'"
      ]
     },
     "execution_count": 14,
     "metadata": {},
     "output_type": "execute_result"
    }
   ],
   "source": [
    "n = 10\n",
    "bin(n >>1)"
   ]
  },
  {
   "cell_type": "markdown",
   "id": "95fc67fc",
   "metadata": {},
   "source": [
    "### next number\n",
    "* Get Next: Start with a brute force solution for each.\n",
    "* Get Next: Picture a binary number-something with a bunch of 1 s and Os spread out \n",
    "throughout the number. Suppose you flip a 1 to a O and a O t o a 1. In what case will the \n",
    "number get bigger? In what case will it get smaller? \n",
    "* Get Next: If you flip a 1 to a O and a O to a 1, it will get bigger if the 0-> 1 bit is more significant than the 1->0 bit. \n",
    "How can you use this to create the next biggest number (with the same number of 1 s)? \n",
    "* Get Next: Can you flip a Oto a 1  to create the next biggest number?\n",
    "* Get Next: Flipping a Oto a 1 will create a bigger number. The farther right the index is \n",
    "the smaller the bigger number is. \n",
    "If we have a number like 1001, we want to flip the rightmost O (to create 1011 ). \n",
    "But if we have a number like 1010, we should not flip the rightmost 1.\n",
    "* Get Next: We should flip the rightmost non-trailing 0. The number 1010 would become 1110. Once we've done that, we need to flip a 1 to a Oto make the number as small \n",
    "as possible, but bigger than the original number (1010). What do we do? How can we \n",
    "shrink the number? \n",
    "* Get  Next: We can shrink the number by moving all the 1 s to the right  of the flipped bit as far right as possible (removing a 1 in the process). \n",
    "* Get Previous: Once you've solved Get Next, try to invert the logic for Get Previous. \n"
   ]
  },
  {
   "cell_type": "code",
   "execution_count": 11,
   "id": "ee32743b",
   "metadata": {},
   "outputs": [
    {
     "name": "stdout",
     "output_type": "stream",
     "text": [
      "0b1010\n",
      "0b101\n",
      "0b10\n",
      "0b1\n",
      "0b1011\n",
      "0b101\n",
      "0b10\n",
      "0b1\n",
      "0b1100\n",
      "0b110\n",
      "0b11\n",
      "0b1\n",
      "next smallest number  12\n"
     ]
    }
   ],
   "source": [
    "def countBits(n):\n",
    "    count = 0\n",
    "    while (n > 0):\n",
    "        print(bin(n))\n",
    "        if( n & 1 == 1):\n",
    "            count += 1\n",
    "        n = n>>1\n",
    "        \n",
    "    return count\n",
    "\n",
    "\n",
    "def nextNumber(n):\n",
    "    \n",
    "    bitsInCurrentNmber = countBits(n)\n",
    "    \n",
    "    while(True):\n",
    "        n = n + 1\n",
    "        bitsInNextNumber = countBits(n)\n",
    "        if(bitsInCurrentNmber == bitsInNextNumber):\n",
    "            print('next smallest number ',n)\n",
    "            break\n",
    "        \n",
    "\n",
    "n = 10\n",
    "# bits = countBits(n)\n",
    "# print(bits)\n",
    "nextNumber(n)\n"
   ]
  },
  {
   "cell_type": "code",
   "execution_count": 17,
   "id": "a5e59a88",
   "metadata": {},
   "outputs": [
    {
     "name": "stdout",
     "output_type": "stream",
     "text": [
      "0\n"
     ]
    }
   ],
   "source": [
    "n = 10\n",
    "print(n & 4)"
   ]
  },
  {
   "cell_type": "code",
   "execution_count": 18,
   "id": "a0f1cfd2",
   "metadata": {},
   "outputs": [
    {
     "data": {
      "text/plain": [
       "'0b11011001111100'"
      ]
     },
     "execution_count": 18,
     "metadata": {},
     "output_type": "execute_result"
    }
   ],
   "source": [
    "bin(13948)"
   ]
  },
  {
   "cell_type": "markdown",
   "id": "a2783866",
   "metadata": {},
   "source": [
    "screw this , I am out"
   ]
  }
 ],
 "metadata": {
  "kernelspec": {
   "display_name": "Python 3",
   "language": "python",
   "name": "python3"
  },
  "language_info": {
   "codemirror_mode": {
    "name": "ipython",
    "version": 3
   },
   "file_extension": ".py",
   "mimetype": "text/x-python",
   "name": "python",
   "nbconvert_exporter": "python",
   "pygments_lexer": "ipython3",
   "version": "3.8.8"
  }
 },
 "nbformat": 4,
 "nbformat_minor": 5
}
