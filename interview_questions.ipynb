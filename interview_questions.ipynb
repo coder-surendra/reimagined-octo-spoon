{
 "cells": [
  {
   "cell_type": "markdown",
   "id": "baf07600",
   "metadata": {},
   "source": [
    "### interpreted language\n",
    "\n",
    "language that executes statements lines by lines, such as python, php etc\n"
   ]
  },
  {
   "cell_type": "markdown",
   "id": "9b337c16",
   "metadata": {},
   "source": [
    "## dynamically typed language\n",
    "language that checks the data-types dring runtimes"
   ]
  },
  {
   "cell_type": "markdown",
   "id": "7a90021b",
   "metadata": {},
   "source": [
    "## scope in python\n",
    "* **local scope** \n",
    "\n",
    "    variables created inside current function)\n",
    "* **global scope** \n",
    "    \n",
    "    objects available throghout the code execution since their creation\n",
    "* **module-level scope**\n",
    "\n",
    "    global objects of the current module accessible in the program.\n",
    "\n",
    "* **outermost scope**\n",
    "\n",
    "    all the built-in names callable in the program."
   ]
  },
  {
   "cell_type": "markdown",
   "id": "57704661",
   "metadata": {},
   "source": [
    "## tuples vs list\n",
    "both can store data of different types.\n",
    "\n",
    "representation\n",
    "This is list `['bob','alice',42]`\n",
    "\n",
    "This is tuple `('bob','alice',42)`\n",
    "\n",
    "***\n",
    "# LISTS ARE MUTABLE, TUPLES AREN'T\n",
    "***"
   ]
  },
  {
   "cell_type": "markdown",
   "id": "1954e59a",
   "metadata": {},
   "source": [
    "## DATATYPES IN PYTHON\n",
    "***\n",
    "\n",
    "### None type \n",
    "\n",
    "* **Null**\n",
    "\n",
    "    returns the `null` value \n",
    "    ***\n",
    "    \n",
    "### numeric types\n",
    "* **int**\n",
    "    \n",
    "    stores integer values including hex,octal and binary (no decimal values)\n",
    "    \n",
    "* **float**\n",
    "\n",
    "    stores numbers with decimal values\n",
    "    \n",
    "* **complex**\n",
    "\n",
    "    stores the complex numbers\n",
    "    like\n",
    "    a + *i* b\n",
    "    \n",
    "* **bool**\n",
    "    \n",
    "    stores the boolean values `True` or `False`\n",
    "    \n",
    "    ***\n",
    "    \n",
    "### Sequence \n",
    "\n",
    "* **list**\n",
    "* **tuples**\n",
    "* **range**\n",
    "* **str**\n",
    "\n",
    "    ***\n",
    "    \n",
    "### Mapping types\n",
    "\n",
    "* **dict**\n",
    "    \n",
    "    stores comma separated value in key:value pairs\n",
    "    ***\n",
    "\n",
    "### set types\n",
    "* **sets**\n",
    "\n",
    "    "
   ]
  },
  {
   "cell_type": "code",
   "execution_count": 2,
   "id": "b9599edc",
   "metadata": {},
   "outputs": [
    {
     "data": {
      "text/plain": [
       "float"
      ]
     },
     "execution_count": 2,
     "metadata": {},
     "output_type": "execute_result"
    }
   ],
   "source": [
    "type(10.4)"
   ]
  }
 ],
 "metadata": {
  "kernelspec": {
   "display_name": "Python 3",
   "language": "python",
   "name": "python3"
  },
  "language_info": {
   "codemirror_mode": {
    "name": "ipython",
    "version": 3
   },
   "file_extension": ".py",
   "mimetype": "text/x-python",
   "name": "python",
   "nbconvert_exporter": "python",
   "pygments_lexer": "ipython3",
   "version": "3.8.8"
  }
 },
 "nbformat": 4,
 "nbformat_minor": 5
}
