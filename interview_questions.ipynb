{
 "cells": [
  {
   "cell_type": "markdown",
   "id": "b2a6a7fd",
   "metadata": {},
   "source": [
    "### interpreted language\n",
    "\n",
    "language that executes statements lines by lines, such as python, php etc\n"
   ]
  },
  {
   "cell_type": "markdown",
   "id": "4b301866",
   "metadata": {},
   "source": [
    "## dynamically typed language\n",
    "language that checks the data-types dring runtimes"
   ]
  },
  {
   "cell_type": "markdown",
   "id": "7a8fec7d",
   "metadata": {},
   "source": [
    "## scope in python\n",
    "* **local scope** \n",
    "\n",
    "    variables created inside current function)\n",
    "* **global scope** \n",
    "    \n",
    "    objects available throghout the code execution since their creation\n",
    "* **module-level scope**\n",
    "\n",
    "    global objects of the current module accessible in the program.\n",
    "\n",
    "* **outermost scope**\n",
    "\n",
    "    all the built-in names callable in the program."
   ]
  },
  {
   "cell_type": "markdown",
   "id": "48c80fca",
   "metadata": {},
   "source": [
    "## tuples vs list\n",
    "both can store data of different types.\n",
    "\n",
    "representation\n",
    "This is list `['bob','alice',42]`\n",
    "\n",
    "This is tuple `('bob','alice',42)`\n",
    "\n",
    "***\n",
    "# LISTS ARE MUTABLE, TUPLES AREN'T\n",
    "***"
   ]
  },
  {
   "cell_type": "markdown",
   "id": "c7daaa30",
   "metadata": {},
   "source": [
    "## DATATYPES IN PYTHON\n",
    "***\n",
    "\n",
    "### None type \n",
    "\n",
    "* **Null**\n",
    "\n",
    "    returns the `null` value \n",
    "    ***\n",
    "    \n",
    "### numeric types\n",
    "* **int**\n",
    "    \n",
    "    stores integer values including hex,octal and binary (no decimal values)\n",
    "    \n",
    "* **float**\n",
    "\n",
    "    stores numbers with decimal values\n",
    "    \n",
    "* **complex**\n",
    "\n",
    "    stores the complex numbers\n",
    "    like\n",
    "    a + *i* b\n",
    "    \n",
    "* **bool**\n",
    "    \n",
    "    stores the boolean values `True` or `False`\n",
    "    \n",
    "    ***\n",
    "    \n",
    "### Sequence \n",
    "\n",
    "* **list**\n",
    "* **tuples**\n",
    "* **range**\n",
    "* **str**\n",
    "\n",
    "    ***\n",
    "    \n",
    "### Mapping types\n",
    "\n",
    "* **dict**\n",
    "    \n",
    "    stores comma separated value in key:value pairs\n",
    "    ***\n",
    "\n",
    "### set types\n",
    "* **sets**\n",
    "    \n",
    "    Mutable unordered collection of distinct hashable objects.\n",
    "    \n",
    "* **frozen sets**\n",
    "    \n",
    "    Immutable collection of distinct hashable objects.\n",
    "\n",
    "    ***    \n",
    "    \n",
    "### modules type\n",
    "\n",
    "   ***\n",
    "### callable types\n",
    "inbuilt function, methods and classes"
   ]
  },
  {
   "cell_type": "code",
   "execution_count": 2,
   "id": "5e0c33a9",
   "metadata": {
    "scrolled": true
   },
   "outputs": [
    {
     "data": {
      "text/plain": [
       "float"
      ]
     },
     "execution_count": 2,
     "metadata": {},
     "output_type": "execute_result"
    }
   ],
   "source": [
    "type(10.4)"
   ]
  },
  {
   "cell_type": "markdown",
   "id": "258101b9",
   "metadata": {},
   "source": [
    "## pass in python\n",
    "represents a null operation in Python. It is generally used for the purpose of filling up empty blocks of code which may execute during runtime but has yet to be written. Without the pass statement in the following code, we may run into some errors during code execution.\n"
   ]
  },
  {
   "cell_type": "code",
   "execution_count": 1,
   "id": "de4dfc9d",
   "metadata": {
    "scrolled": true
   },
   "outputs": [],
   "source": [
    "def myEmptyFunc():\n",
    "   # do nothing\n",
    "   pass\n",
    "myEmptyFunc()    # nothing happens\n",
    "## Without the pass keyword\n",
    "# File \"<stdin>\", line 3\n",
    "# IndentationError: expected an indented block"
   ]
  },
  {
   "cell_type": "markdown",
   "id": "07dad848",
   "metadata": {},
   "source": [
    "# self in python\n",
    "keyword used to define an instance of an object of a class"
   ]
  },
  {
   "cell_type": "markdown",
   "id": "322ec0b6",
   "metadata": {},
   "source": [
    "# __init__\n",
    "constructor class in python, \n",
    "gets called when an object is created"
   ]
  },
  {
   "cell_type": "markdown",
   "id": "b39afb0c",
   "metadata": {},
   "source": [
    "## break vs continue vs pass\n",
    "\n",
    "* **break**\n",
    "\n",
    "terminates the loop execution, & control goes to statement after the body of the loop\n",
    "\n",
    "* **continue**\n",
    "\n",
    "skips the current iteration of the loop\n",
    "\n",
    "* **pass**\n",
    "\n",
    "used to fill up empty blocks & is similar to empty statement represented by semicolon in languages like C++"
   ]
  },
  {
   "cell_type": "markdown",
   "id": "6a44e7d4",
   "metadata": {},
   "source": [
    "## slicing in python\n",
    "\n",
    "`arr[startIndex : stopIndex : step]`\n",
    "\n",
    "this is similar to mathematic representation of \n",
    "[start,end)"
   ]
  },
  {
   "cell_type": "code",
   "execution_count": 5,
   "id": "79557b44",
   "metadata": {
    "scrolled": true
   },
   "outputs": [
    {
     "name": "stdout",
     "output_type": "stream",
     "text": [
      "[1, 2, 3, 4]\n",
      "[1, 3, 5, 7, 9]\n"
     ]
    }
   ],
   "source": [
    "numbers = [0,1, 2, 3, 4, 5, 6, 7, 8, 9, 10]\n",
    "print(numbers[1 : 5])  \n",
    "print(numbers[1 : : 2])"
   ]
  },
  {
   "cell_type": "markdown",
   "id": "5d58581f",
   "metadata": {},
   "source": [
    "#### python arrays vs list\n",
    "\n",
    "python array are homogeneous (i.e. all elements must have same data-types)\n",
    "list are hetrogeneous"
   ]
  },
  {
   "cell_type": "code",
   "execution_count": 8,
   "id": "5679319f",
   "metadata": {
    "scrolled": true
   },
   "outputs": [
    {
     "name": "stdout",
     "output_type": "stream",
     "text": [
      "1 2 3  \n",
      "1 2 string "
     ]
    }
   ],
   "source": [
    "import array\n",
    "a = array.array('i', [1, 2, 3])\n",
    "for i in a:\n",
    "    print(i, end=' ') \n",
    "    \n",
    "print(' ')\n",
    "a = [1, 2, 'string']\n",
    "for i in a:\n",
    "    print(i, end=' ') "
   ]
  },
  {
   "cell_type": "markdown",
   "id": "3fe42be2",
   "metadata": {},
   "source": [
    "***"
   ]
  },
  {
   "cell_type": "markdown",
   "id": "b033cc10",
   "metadata": {},
   "source": [
    "## Python namespaces\n",
    "A namespace is a system that has a unique name for each and every object in Python.\n",
    "An object might be a variable or a method.\n"
   ]
  },
  {
   "cell_type": "code",
   "execution_count": 10,
   "id": "533ec8f8",
   "metadata": {
    "scrolled": true
   },
   "outputs": [
    {
     "data": {
      "text/plain": [
       "['hello', 'world']"
      ]
     },
     "execution_count": 10,
     "metadata": {},
     "output_type": "execute_result"
    }
   ],
   "source": [
    "# decorator function to convert to lowercase\n",
    "def lowercase_decorator(function):\n",
    "    def wrapper():\n",
    "        func = function()\n",
    "        string_lowercase = func.lower()\n",
    "        return string_lowercase\n",
    "    return wrapper\n",
    "# decorator function to split words\n",
    "def splitter_decorator(function):\n",
    "    def wrapper():\n",
    "        func = function()\n",
    "        string_split = func.split()\n",
    "        return string_split\n",
    "    return wrapper\n",
    "@splitter_decorator # this is executed next\n",
    "@lowercase_decorator # this is executed first\n",
    "def hello():\n",
    "    return 'Hello World'\n",
    "hello()"
   ]
  },
  {
   "cell_type": "markdown",
   "id": "7c3270a2",
   "metadata": {},
   "source": [
    "# python decorator\n",
    "functions that add functionality to an existing function in Python without changing the structure of the function itself."
   ]
  },
  {
   "cell_type": "code",
   "execution_count": 7,
   "id": "7ddc294e",
   "metadata": {
    "scrolled": true
   },
   "outputs": [
    {
     "name": "stdout",
     "output_type": "stream",
     "text": [
      "inside hello\n",
      "Hello World\n",
      "here 1\n",
      "here 2\n"
     ]
    },
    {
     "data": {
      "text/plain": [
       "['hello', 'world']"
      ]
     },
     "execution_count": 7,
     "metadata": {},
     "output_type": "execute_result"
    }
   ],
   "source": [
    "# decorator function to convert to lowercase\n",
    "def lowercase_decorator(function):\n",
    "    def wrapper():\n",
    "        func = function()\n",
    "        print(func)\n",
    "        string_lowercase = func.lower()\n",
    "        print('here 1')\n",
    "        return string_lowercase\n",
    "    return wrapper\n",
    "# decorator function to split words\n",
    "def splitter_decorator(function):\n",
    "    def wrapper():\n",
    "        func = function()\n",
    "        print('here 2')\n",
    "        string_split = func.split()\n",
    "        return string_split\n",
    "    return wrapper\n",
    "@splitter_decorator # this is executed next\n",
    "@lowercase_decorator # this is executed first\n",
    "def hello():\n",
    "    print('inside hello')\n",
    "    return 'Hello World'\n",
    "hello()\n"
   ]
  },
  {
   "cell_type": "code",
   "execution_count": null,
   "id": "ec86a9e5",
   "metadata": {},
   "outputs": [],
   "source": [
    "print([0,[1,2,3,4,5][2],2][1])\n"
   ]
  },
  {
   "cell_type": "markdown",
   "id": "1182a755",
   "metadata": {},
   "source": [
    " ## Dict and List comprehensions\n",
    " Python comprehensions, are syntactic sugar constructs that help build altered and filtered lists, dictionaries, or sets from a given list, dictionary, or set."
   ]
  },
  {
   "cell_type": "code",
   "execution_count": 5,
   "id": "3be5a896",
   "metadata": {},
   "outputs": [
    {
     "name": "stdout",
     "output_type": "stream",
     "text": [
      "[4, 9, 25, 49, 121]\n",
      "{2: 4, 3: 9, 5: 25, 7: 49, 11: 121}\n",
      "[9, 25, 49, 121]\n",
      "[7, 9, 11]\n",
      "[(1, 6), (1, 7), (1, 8), (2, 6), (2, 7), (2, 8), (3, 6), (3, 7), (3, 8)]\n",
      "[10, 20, 30, 40, 50, 60, 70, 80, 90]\n"
     ]
    }
   ],
   "source": [
    "my_list = [2, 3, 5, 7, 11]\n",
    "\n",
    "# Performing mathematical operations on the entire list\n",
    "squared_list = [x**2 for x in my_list]\n",
    "print(squared_list)\n",
    "squared_dict = {x:x**2 for x in my_list} \n",
    "print(squared_dict)\n",
    "\n",
    "# Performing conditional filtering operations on the entire list\n",
    "squared_list = [x ** 2 for x in my_list if x %2 != 0]\n",
    "print(squared_list)\n",
    "\n",
    "# Combining multiple lists into one\n",
    "a = [1, 2, 3]\n",
    "b = [6, 7, 8]\n",
    "c = [(x + y) for (x,y) in zip(a,b)]\n",
    "print(c)\n",
    "d = [(x,y) for x in a for y in b]\n",
    "print(d)\n",
    "\n",
    "# Flattening a multi-dimensional list\n",
    "\n",
    "my_list = [[10,20,30],[40,50,60],[70,80,90]]\n",
    "flat_list = [x for temp in my_list for x in temp]\n",
    "print(flat_list)"
   ]
  },
  {
   "cell_type": "markdown",
   "id": "69dc4fc1",
   "metadata": {},
   "source": [
    "## lambda function \n",
    "anonymous function , that can receive any number of arguments, \n",
    "\n",
    "but, only **single** line of expression"
   ]
  },
  {
   "cell_type": "code",
   "execution_count": 7,
   "id": "522fbe73",
   "metadata": {},
   "outputs": [
    {
     "name": "stdout",
     "output_type": "stream",
     "text": [
      "13\n"
     ]
    }
   ],
   "source": [
    "mul = lambda a, b, c : a * b + c\n",
    "print(mul(2, 5, 3))  "
   ]
  },
  {
   "cell_type": "code",
   "execution_count": 8,
   "id": "5806a84d",
   "metadata": {},
   "outputs": [
    {
     "name": "stdout",
     "output_type": "stream",
     "text": [
      "1\n",
      "2\n",
      "3\n"
     ]
    }
   ],
   "source": [
    "def simpleGeneratorFun():\n",
    "    yield 1            \n",
    "    yield 2            \n",
    "    yield 3            \n",
    "   \n",
    "\n",
    "# Driver code to check above generator function\n",
    "for value in simpleGeneratorFun(): \n",
    "    print(value)"
   ]
  },
  {
   "cell_type": "code",
   "execution_count": 11,
   "id": "4ce2f568",
   "metadata": {},
   "outputs": [
    {
     "ename": "AttributeError",
     "evalue": "'generator' object has no attribute 'next'",
     "output_type": "error",
     "traceback": [
      "\u001b[1;31m---------------------------------------------------------------------------\u001b[0m",
      "\u001b[1;31mAttributeError\u001b[0m                            Traceback (most recent call last)",
      "\u001b[1;32m<ipython-input-11-250cdf60e8c5>\u001b[0m in \u001b[0;36m<module>\u001b[1;34m\u001b[0m\n\u001b[0;32m      7\u001b[0m \u001b[1;33m\u001b[0m\u001b[0m\n\u001b[0;32m      8\u001b[0m \u001b[1;31m# Iterating over the generator object using next\u001b[0m\u001b[1;33m\u001b[0m\u001b[1;33m\u001b[0m\u001b[1;33m\u001b[0m\u001b[0m\n\u001b[1;32m----> 9\u001b[1;33m \u001b[0mprint\u001b[0m\u001b[1;33m(\u001b[0m\u001b[0mx\u001b[0m\u001b[1;33m.\u001b[0m\u001b[0mnext\u001b[0m\u001b[1;33m(\u001b[0m\u001b[1;33m)\u001b[0m\u001b[1;33m)\u001b[0m \u001b[1;31m# In Python 3, __next__()\u001b[0m\u001b[1;33m\u001b[0m\u001b[1;33m\u001b[0m\u001b[0m\n\u001b[0m\u001b[0;32m     10\u001b[0m \u001b[0mprint\u001b[0m\u001b[1;33m(\u001b[0m\u001b[0mx\u001b[0m\u001b[1;33m.\u001b[0m\u001b[0mnext\u001b[0m\u001b[1;33m(\u001b[0m\u001b[1;33m)\u001b[0m\u001b[1;33m)\u001b[0m\u001b[1;33m\u001b[0m\u001b[1;33m\u001b[0m\u001b[0m\n\u001b[0;32m     11\u001b[0m \u001b[0mprint\u001b[0m\u001b[1;33m(\u001b[0m\u001b[0mx\u001b[0m\u001b[1;33m.\u001b[0m\u001b[0mnext\u001b[0m\u001b[1;33m(\u001b[0m\u001b[1;33m)\u001b[0m\u001b[1;33m)\u001b[0m\u001b[1;33m\u001b[0m\u001b[1;33m\u001b[0m\u001b[0m\n",
      "\u001b[1;31mAttributeError\u001b[0m: 'generator' object has no attribute 'next'"
     ]
    }
   ],
   "source": [
    "def simpleGeneratorFun():\n",
    "    yield 1\n",
    "    yield 2\n",
    "    yield 3\n",
    "    # x is a generator object\n",
    "x = simpleGeneratorFun()\n",
    "  \n",
    "# Iterating over the generator object using next\n",
    "print(x.next()) # In Python 3, __next__()\n",
    "print(x.next())\n",
    "print(x.next())"
   ]
  },
  {
   "cell_type": "markdown",
   "id": "988e6ab2",
   "metadata": {},
   "source": [
    "## In Python, arguments are passed by reference, i.e., reference to the actual object is passed.\n",
    "# **but not variables**\n"
   ]
  },
  {
   "cell_type": "code",
   "execution_count": 12,
   "id": "18da460d",
   "metadata": {},
   "outputs": [
    {
     "name": "stdout",
     "output_type": "stream",
     "text": [
      "inside function , a =  12\n",
      "outside function , a  10\n"
     ]
    }
   ],
   "source": [
    "def func(a , b):\n",
    "    a = a + b\n",
    "    print('inside function , a = ' , a )\n",
    "\n",
    "a = 10\n",
    "b = 2\n",
    "func(a , b)\n",
    "print('outside function , a ', a)"
   ]
  },
  {
   "cell_type": "code",
   "execution_count": 13,
   "id": "e7f5478b",
   "metadata": {},
   "outputs": [
    {
     "name": "stdout",
     "output_type": "stream",
     "text": [
      "['hello', 'there']\n",
      "hello there\n"
     ]
    }
   ],
   "source": [
    "a = 'hello there'\n",
    "split = a.split(' ')\n",
    "print(split)\n",
    "\n",
    "print(' '.join(split))"
   ]
  },
  {
   "cell_type": "code",
   "execution_count": 14,
   "id": "afccddeb",
   "metadata": {},
   "outputs": [
    {
     "name": "stdout",
     "output_type": "stream",
     "text": [
      "I have 1 ball\n",
      "I have 1 ball\n",
      "I have 1 ball\n",
      "I have 1 ball\n",
      "I have 1 ball\n"
     ]
    }
   ],
   "source": [
    "a = 1\n",
    "b = 'ball'\n",
    "print('I have %d %s' % (a, b))\n",
    "\n",
    "print('I have', a, b)\n",
    "print('I have {} {}'.format(a, b))\n",
    "print('I have ' + str(a) + ' ' + b)\n",
    "print(f'I have {a} {b}')"
   ]
  },
  {
   "cell_type": "markdown",
   "id": "352edb6f",
   "metadata": {},
   "source": [
    "##  * args and ** kwargs \n",
    "*means variable length  \n",
    "both are convention names, you can use any other \n",
    "\n",
    "* args, takes inputs in form for list `(1,2,3,4,5)`\n",
    "* kwarg takes inputs in dictionary format `(a = 1, b = 2, c = 3, ...) `"
   ]
  },
  {
   "cell_type": "code",
   "execution_count": 16,
   "id": "3253f360",
   "metadata": {},
   "outputs": [
    {
     "name": "stdout",
     "output_type": "stream",
     "text": [
      "120\n"
     ]
    }
   ],
   "source": [
    "def multiply(a, b, *argv):\n",
    "    mul = a * b\n",
    "    for num in argv:\n",
    "        mul *= num\n",
    "    return mul\n",
    "print(multiply(1, 2, 3, 4, 5))"
   ]
  },
  {
   "cell_type": "code",
   "execution_count": 17,
   "id": "76c626c5",
   "metadata": {},
   "outputs": [
    {
     "name": "stdout",
     "output_type": "stream",
     "text": [
      "arg1: argument 1\n",
      "arg2: argument 2\n",
      "arg3: argument 3\n"
     ]
    }
   ],
   "source": [
    "def tellArguments(**kwargs):\n",
    "   for key, value in kwargs.items():\n",
    "       print(key + \": \" + value)\n",
    "tellArguments(arg1 = \"argument 1\", arg2 = \"argument 2\", arg3 = \"argument 3\")"
   ]
  },
  {
   "cell_type": "markdown",
   "id": "873dd57b",
   "metadata": {},
   "source": [
    "# Python OOPS a.k.a **POOPs**\n"
   ]
  },
  {
   "cell_type": "code",
   "execution_count": null,
   "id": "84125f6f",
   "metadata": {},
   "outputs": [],
   "source": [
    "class student:\n",
    "    def __init__(self,name,std,number):\n",
    "        self.name = name\n",
    "        self.std = std\n",
    "        self.number = number\n",
    "        "
   ]
  },
  {
   "cell_type": "code",
   "execution_count": 18,
   "id": "8746b4d0",
   "metadata": {},
   "outputs": [
    {
     "name": "stdout",
     "output_type": "stream",
     "text": [
      "1\n",
      "2\n",
      "3\n",
      "6\n",
      "8\n"
     ]
    }
   ],
   "source": [
    "def fn(*args):\n",
    "    for i in args:\n",
    "        print(i)\n",
    "\n",
    "fn(1,2,3,6,8)"
   ]
  },
  {
   "cell_type": "code",
   "execution_count": null,
   "id": "a6410ddd",
   "metadata": {},
   "outputs": [],
   "source": [
    "def check_distinct(data_list):\n",
    "    return (len(data_list == len(set(data_list))))"
   ]
  }
 ],
 "metadata": {
  "kernelspec": {
   "display_name": "Python 3",
   "language": "python",
   "name": "python3"
  },
  "language_info": {
   "codemirror_mode": {
    "name": "ipython",
    "version": 3
   },
   "file_extension": ".py",
   "mimetype": "text/x-python",
   "name": "python",
   "nbconvert_exporter": "python",
   "pygments_lexer": "ipython3",
   "version": "3.8.8"
  }
 },
 "nbformat": 4,
 "nbformat_minor": 5
}
