{
 "cells": [
  {
   "cell_type": "markdown",
   "id": "ceb333a3",
   "metadata": {},
   "source": [
    "problems skipped: \n",
    "* The egg drop problem\n",
    "* poison bottles\n",
    "* The apocalypse"
   ]
  },
  {
   "cell_type": "code",
   "execution_count": 11,
   "id": "aa7e016d",
   "metadata": {},
   "outputs": [
    {
     "name": "stdout",
     "output_type": "stream",
     "text": [
      "100  %  1  =  0\n",
      "100  %  2  =  0\n",
      "100  %  4  =  0\n",
      "100  %  5  =  0\n",
      "100  %  10  =  0\n",
      "100  %  20  =  0\n",
      "100  %  25  =  0\n",
      "100  %  50  =  0\n",
      "100  %  100  =  0\n",
      "count =  9\n"
     ]
    }
   ],
   "source": [
    "def div(n):\n",
    "    count = 0\n",
    "    for i in range(1,n+1):\n",
    "        \n",
    "        if(n % i == 0):\n",
    "            print(n,\" % \",i,\" = \", n%i)\n",
    "            count += 1\n",
    "            \n",
    "    print('count = ',count)\n",
    "div(100)"
   ]
  }
 ],
 "metadata": {
  "kernelspec": {
   "display_name": "Python 3",
   "language": "python",
   "name": "python3"
  },
  "language_info": {
   "codemirror_mode": {
    "name": "ipython",
    "version": 3
   },
   "file_extension": ".py",
   "mimetype": "text/x-python",
   "name": "python",
   "nbconvert_exporter": "python",
   "pygments_lexer": "ipython3",
   "version": "3.8.8"
  }
 },
 "nbformat": 4,
 "nbformat_minor": 5
}
