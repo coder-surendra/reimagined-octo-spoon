{
 "cells": [
  {
   "cell_type": "markdown",
   "id": "953aa439",
   "metadata": {},
   "source": [
    "### find if linked list is palindrome \n",
    "* using recusion\n",
    "* you are given the lenth of the llist"
   ]
  },
  {
   "cell_type": "markdown",
   "id": "3b0c5021",
   "metadata": {},
   "source": [
    "# additional questions\n",
    "* 4.3\n",
    "* 7.12\n",
    "* 9.5\n",
    "* 16.25\n",
    "* 17.12"
   ]
  },
  {
   "cell_type": "markdown",
   "id": "2e6e6a12",
   "metadata": {},
   "source": []
  }
 ],
 "metadata": {
  "kernelspec": {
   "display_name": "Python 3",
   "language": "python",
   "name": "python3"
  },
  "language_info": {
   "codemirror_mode": {
    "name": "ipython",
    "version": 3
   },
   "file_extension": ".py",
   "mimetype": "text/x-python",
   "name": "python",
   "nbconvert_exporter": "python",
   "pygments_lexer": "ipython3",
   "version": "3.8.8"
  }
 },
 "nbformat": 4,
 "nbformat_minor": 5
}
