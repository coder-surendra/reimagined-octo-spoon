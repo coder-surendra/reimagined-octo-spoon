{
 "cells": [
  {
   "cell_type": "markdown",
   "id": "c1f2ece4",
   "metadata": {},
   "source": [
    "### tripple jump\n"
   ]
  },
  {
   "cell_type": "code",
   "execution_count": 1,
   "id": "faa47e82",
   "metadata": {},
   "outputs": [
    {
     "name": "stdout",
     "output_type": "stream",
     "text": [
      "13\n"
     ]
    }
   ],
   "source": [
    "def countWays(n):\n",
    "    if(n < 0):\n",
    "        return 0\n",
    "    elif(n == 0):\n",
    "        return 1\n",
    "    else:\n",
    "        return countWays(n-1) + countWays(n -2 ) + countWays( n -3)\n",
    "\n",
    "print(countWays(5))"
   ]
  },
  {
   "cell_type": "code",
   "execution_count": 7,
   "id": "c9f12f86",
   "metadata": {},
   "outputs": [
    {
     "name": "stdout",
     "output_type": "stream",
     "text": [
      "13\n"
     ]
    }
   ],
   "source": [
    "def countWays2(n,d):\n",
    "    if(n < 0):\n",
    "        return 0\n",
    "    elif(n == 0):\n",
    "        return 1\n",
    "    elif( n in d.keys()):\n",
    "        if(d[n] > -1):\n",
    "            return d[n]\n",
    "    else:\n",
    "        d[n] = countWays2(n-1,d) + countWays2(n-2 , d) +countWays2(n-3,d)\n",
    "        return d[n]\n",
    "d = {}\n",
    "\n",
    "print(countWays2(5,d))"
   ]
  }
 ],
 "metadata": {
  "kernelspec": {
   "display_name": "Python 3",
   "language": "python",
   "name": "python3"
  },
  "language_info": {
   "codemirror_mode": {
    "name": "ipython",
    "version": 3
   },
   "file_extension": ".py",
   "mimetype": "text/x-python",
   "name": "python",
   "nbconvert_exporter": "python",
   "pygments_lexer": "ipython3",
   "version": "3.8.8"
  }
 },
 "nbformat": 4,
 "nbformat_minor": 5
}
