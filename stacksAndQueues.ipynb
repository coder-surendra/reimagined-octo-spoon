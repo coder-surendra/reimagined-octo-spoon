{
 "cells": [
  {
   "cell_type": "markdown",
   "id": "4d1e062f",
   "metadata": {},
   "source": [
    "### unsolved \n",
    "* stack of stacks"
   ]
  },
  {
   "cell_type": "markdown",
   "id": "09bc5efb",
   "metadata": {},
   "source": [
    "# stacks and queues"
   ]
  },
  {
   "cell_type": "markdown",
   "id": "5f63aece",
   "metadata": {},
   "source": [
    "## three in one:\n",
    "divide the array in 3 equal length i.e. n/3\n",
    "\n",
    "* [ 0,n/3]\n",
    "* [ n/3 + 1 , 2n/3 ]\n",
    "* [ 2n/3 +1 , n]"
   ]
  },
  {
   "cell_type": "code",
   "execution_count": 26,
   "id": "0485836f",
   "metadata": {},
   "outputs": [],
   "source": [
    "'''\n",
    "    stack using list\n",
    "'''\n",
    "class Stack1:\n",
    "    \n",
    "    def __init__(self):\n",
    "        self.stack = []\n",
    "    \n",
    "    def add(self,value):\n",
    "        self.stack.append(value)\n",
    "        \n",
    "    def top(self):\n",
    "        return self.stack[-1]\n",
    "    \n",
    "    def pop(self):\n",
    "        if(len(self.stack)>=1):\n",
    "            return self.stack.pop\n",
    "        else:\n",
    "            return -1\n",
    "    \n",
    "    def printStack(self):\n",
    "        for i in self.stack:\n",
    "            print(i,end=' -> ')\n",
    "    \n"
   ]
  },
  {
   "cell_type": "code",
   "execution_count": 27,
   "id": "13fd3bfa",
   "metadata": {},
   "outputs": [
    {
     "name": "stdout",
     "output_type": "stream",
     "text": [
      "Mon -> Tue -> Wed -> Thu -> "
     ]
    }
   ],
   "source": [
    "AStack = Stack1()\n",
    "AStack.add(\"Mon\")\n",
    "AStack.add(\"Tue\")\n",
    "AStack.add(\"Wed\")\n",
    "AStack.add(\"Thu\") \n",
    "AStack.printStack()"
   ]
  },
  {
   "cell_type": "code",
   "execution_count": null,
   "id": "0c4e33d6",
   "metadata": {},
   "outputs": [],
   "source": [
    "class Node:\n",
    "    def __init__(self,value):\n",
    "        self.value = value\n",
    "        self.next = None\n",
    "        \n",
    "class Stack:\n",
    "    def __init__(self):\n",
    "        self.top = None\n",
    "        self.count = 0\n",
    "        self.min = 0\n",
    "        \n",
    "    def getMin(self):\n",
    "        if(self.top is None):\n",
    "            return -1\n",
    "        else:\n",
    "            return self.min\n",
    "        \n",
    "    # peek function \n",
    "    def top(self):\n",
    "        if(self.top is None):\n",
    "            return -1\n",
    "        else:\n",
    "            return self.top.value\n",
    "        \n",
    "    #push function\n",
    "    def push(self,value):\n",
    "        \n",
    "        if(self.top is None):\n",
    "            self.top = Node(value)\n",
    "            self.min = value\n",
    "        \n",
    "        else:\n",
    "            if(self.min > value):\n",
    "                self.min = value\n",
    "            node = Node(value)\n",
    "            node.next = self.top\n",
    "            self.top = node\n",
    "        \n",
    "    def printStack(self.value)"
   ]
  },
  {
   "cell_type": "code",
   "execution_count": null,
   "id": "45c421fb",
   "metadata": {},
   "outputs": [],
   "source": [
    "CAP = 5\n",
    "class StackList:\n",
    "    def __init__(self):\n",
    "        self.top  = None\n",
    "        self.nextStack = None\n",
    "        self.capacity = 0\n",
    "        \n",
    "    def getCapacity(self):\n",
    "        return self.capacity\n",
    "    \n",
    "    def pop(self):\n",
    "        \n",
    "        if(self.top is None):\n",
    "            return False\n",
    "        else:\n",
    "            temp = self.top\n",
    "            self.top = temp.next\n",
    "            temp.next = None\n",
    "            self.capacity -= 1\n",
    "            return temp.value\n",
    "        \n",
    "    \n",
    "    def push(self,value):\n",
    "        \n",
    "        n = Node(value)\n",
    "\n",
    "        self.capacity += 1\n",
    "        if( self.top is None):\n",
    "            self.top = n\n",
    "        else:\n",
    "            n.next = self.top\n",
    "            self.top = n\n",
    "\n",
    "# stack1 =\n",
    "#how to create new stack and user it  (basically its dynamic variable)\n",
    "\n",
    "list = [] \n",
    "stack = StackList()\n",
    "temp = stack.top\n",
    "load = 0\n",
    "# for i in range(0,20):\n",
    "#     n = Node(i)\n",
    "#     if(load <= 5):\n",
    "#         load += 1\n",
    "#         stack."
   ]
  },
  {
   "cell_type": "markdown",
   "id": "1326b3c5",
   "metadata": {},
   "source": [
    "## Queue via Stacks: \n",
    "Implement a MyQueue class which implements a queue using two stacks.\n",
    "Hints: \n",
    "* 98.  The major difference between a queue and a stack is the order of elements. \n",
    "A queue removes the oldest item and a stack removes the newest item. \n",
    "How could you remove the oldest item from a stack if you only had access to the newest item?\n",
    "\n",
    "* 114. We can remove the oldest item from a stack by repeatedly removing the newest item (inserting those into the temporary stack) until we get down to one element. \n",
    "Then, after we've retrieved the newest item, putting all the elements back. The issue with this is that doing several pops in a row will require O ( N) work each time. \n",
    "Can we optimize for scenarios where we might do several pops in a row?"
   ]
  },
  {
   "cell_type": "markdown",
   "id": "f37a0098",
   "metadata": {},
   "source": [
    "we need 2 arrays\n",
    "* first list stores the sequential order\n",
    "* second list stores in reverse order\n"
   ]
  },
  {
   "cell_type": "code",
   "execution_count": 25,
   "id": "b796384b",
   "metadata": {},
   "outputs": [
    {
     "name": "stdout",
     "output_type": "stream",
     "text": [
      "bot -> 1 -> 2 -> 3 -> 4 -> 5 -> 6 -> 7 -> 8 -> 9 -> top\n",
      "[9]\n",
      "[9, 8]\n",
      "[9, 8, 7]\n",
      "[9, 8, 7, 6]\n",
      "[9, 8, 7, 6, 5]\n",
      "[9, 8, 7, 6, 5, 4]\n",
      "[9, 8, 7, 6, 5, 4, 3]\n",
      "[9, 8, 7, 6, 5, 4, 3, 2]\n",
      "===\n",
      "[2, 3, 4, 5, 6, 7, 8, 9]\n",
      "[9, 8, 7, 6, 5, 4, 3, 2]\n",
      "popped value =  1\n",
      "bot -> 2 -> 3 -> 4 -> 5 -> 6 -> 7 -> 8 -> 9 -> 10 -> top\n"
     ]
    }
   ],
   "source": [
    "class MyQueue:\n",
    "    def __init__(self):\n",
    "        self.list = []\n",
    "        self.reverseList = []\n",
    "        self.count = 0\n",
    "        \n",
    "    def push(self,value):\n",
    "        self.list.append(value)\n",
    "        \n",
    "    def printQueue(self):\n",
    "        print('bot',end=' -> ')\n",
    "        for i in self.list:\n",
    "            print(i,end=' -> ')\n",
    "        print('top')\n",
    "        \n",
    "    def pop(self):\n",
    "        \n",
    "        if( len(self.list) == 0 ):\n",
    "            return -1\n",
    "        \n",
    "        self.reverseList = []\n",
    "        i = len(self.list) - 1\n",
    "        # sendting values from main list to temp list\n",
    "        while (i >= 1):\n",
    "            self.reverseList.append( self.list[i] )\n",
    "            i = i - 1\n",
    "            print(self.reverseList)\n",
    "        print('===')\n",
    "        poppedValue = self.list[i]\n",
    "\n",
    "        # sendting values from main list to temp list\n",
    "        self.list = []\n",
    "        n = len(self.reverseList)\n",
    "        for i in range(n-1,-1,-1):\n",
    "            self.list.append(self.reverseList[i])\n",
    "\n",
    "        print(self.list)\n",
    "        print(self.reverseList)\n",
    "        print('popped value = ',poppedValue)\n",
    "        return poppedValue\n",
    "    \n",
    "q1 = MyQueue()\n",
    "for i in range(1,10):\n",
    "    q1.push(i)\n",
    "        \n",
    "q1.printQueue()  \n",
    "q1.pop()\n",
    "\n",
    "q1.push(10)\n",
    "q1.printQueue()  "
   ]
  },
  {
   "cell_type": "code",
   "execution_count": 8,
   "id": "c0f6f746",
   "metadata": {},
   "outputs": [
    {
     "name": "stdout",
     "output_type": "stream",
     "text": [
      "[1, 2]\n",
      "2\n",
      "[0, 1]\n",
      "\n"
     ]
    }
   ],
   "source": [
    "a = []\n",
    "a.append(1)\n",
    "a.append(2)\n",
    "print(a)\n",
    "a.insert(0,0)\n",
    "print(a.pop())\n",
    "print(a)\n",
    "b = []\n",
    "print()"
   ]
  },
  {
   "cell_type": "markdown",
   "id": "39e5f5e0",
   "metadata": {},
   "source": [
    "## Sort Stack:\n",
    "Write a program to sort a stack such that the smallest items are on the top. \n",
    "You can use an additional temporary stack, but you may not copy the elements into any other data structure (such as an array). \n",
    "The stack supports the following operations: push, pop, peek, and is Empty.\n",
    "\n",
    "HINTS : \n",
    "* 15. One way of sorting an array is to iterate through the array and insert each element into a new array in sorted order. Can you do this with a stack?\n",
    "* 32. Imagine your secondary stack is sorted. Can you insert elements into it in sorted order?\n",
    "You might need some extra storage. What could you use for extra storage\n",
    "* 43. Keep the secondary stack in sorted order, with the biggest elements on the top. Use the\n",
    "primary stack f or additional storage."
   ]
  },
  {
   "cell_type": "code",
   "execution_count": 42,
   "id": "0bb1a495",
   "metadata": {},
   "outputs": [
    {
     "name": "stdout",
     "output_type": "stream",
     "text": [
      "4 -> 2 -> 1 -> 5 -> 3 -> 9 -> 6 -> 8 -> 7 -> lowest =  4\n",
      "1 -> lowest =  2\n",
      "1 -> 2 -> lowest =  1\n",
      "1 -> 2 -> lowest =  5\n",
      "1 -> 2 -> 3 -> lowest =  3\n",
      "1 -> 2 -> 3 -> lowest =  9\n",
      "1 -> 2 -> 3 -> 4 -> lowest =  6\n",
      "1 -> 2 -> 3 -> 4 -> 5 -> lowest =  8\n",
      "1 -> 2 -> 3 -> 4 -> 5 -> 6 -> lowest =  7\n",
      "1 -> 2 -> 3 -> 4 -> 5 -> 6 -> 7 ->  \n",
      "after sorting\n",
      "1 -> 2 -> 3 -> 4 -> 5 -> 6 -> 7 -> "
     ]
    }
   ],
   "source": [
    "\n",
    "\n",
    "\n",
    "def sortStacks(unsortedStack):\n",
    "    sortedStack = Stack1()\n",
    "    for i in range(0,len(unsortedStack.stack)):\n",
    "        lowest = unsortedStack.stack[i]\n",
    "        print('lowest = ',lowest)\n",
    "        if(lowest not in sortedStack.stack):\n",
    "            \n",
    "            for j in unsortedStack.stack:\n",
    "                if( lowest >  j and (j not in sortedStack.stack) ):\n",
    "                    lowest = j\n",
    "            \n",
    "            sortedStack.add(lowest)\n",
    "        sortedStack.printStack()\n",
    "    print(' ')\n",
    "    print('after sorting')\n",
    "    sortedStack.printStack()\n",
    "    \n",
    "    \n",
    "stackToSort = Stack1()\n",
    "values = [4,2,1,5,3,9,6,8,7]\n",
    "for i in values:\n",
    "    stackToSort.add(i)\n",
    "    \n",
    "stackToSort.printStack()  \n",
    "sortStacks(stackToSort)\n",
    "\n",
    "  "
   ]
  },
  {
   "cell_type": "code",
   "execution_count": null,
   "id": "5777ae66",
   "metadata": {},
   "outputs": [],
   "source": []
  }
 ],
 "metadata": {
  "kernelspec": {
   "display_name": "Python 3",
   "language": "python",
   "name": "python3"
  },
  "language_info": {
   "codemirror_mode": {
    "name": "ipython",
    "version": 3
   },
   "file_extension": ".py",
   "mimetype": "text/x-python",
   "name": "python",
   "nbconvert_exporter": "python",
   "pygments_lexer": "ipython3",
   "version": "3.8.8"
  }
 },
 "nbformat": 4,
 "nbformat_minor": 5
}
