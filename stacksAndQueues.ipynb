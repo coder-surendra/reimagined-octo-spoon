{
 "cells": [
  {
   "cell_type": "markdown",
   "id": "09bc5efb",
   "metadata": {},
   "source": [
    "# stacks and queues"
   ]
  },
  {
   "cell_type": "markdown",
   "id": "5f63aece",
   "metadata": {},
   "source": [
    "## three in one:\n",
    "divide the array in 3 equal length i.e. n/3\n",
    "\n",
    "* [ 0,n/3]\n",
    "* [ n/3 + 1 , 2n/3 ]\n",
    "* [ 2n/3 +1 , n]"
   ]
  },
  {
   "cell_type": "code",
   "execution_count": 6,
   "id": "0485836f",
   "metadata": {},
   "outputs": [
    {
     "name": "stdout",
     "output_type": "stream",
     "text": [
      "Mon -> Tue -> Wed -> Thu -> "
     ]
    }
   ],
   "source": [
    "'''\n",
    "    stack using list\n",
    "'''\n",
    "class Stack1:\n",
    "    \n",
    "    def __init__(self):\n",
    "        self.stack = []\n",
    "    \n",
    "    def add(self,value):\n",
    "        self.stack.append(value)\n",
    "        \n",
    "    def top(self):\n",
    "        return self.stack[-1]\n",
    "    \n",
    "    def pop(self):\n",
    "        if(len(self.stack)>=1):\n",
    "            return self.stack.pop\n",
    "        else:\n",
    "            return -1\n",
    "    \n",
    "    def printStack(self):\n",
    "        for i in self.stack:\n",
    "            print(i,end=' -> ')\n",
    "    \n",
    "AStack = Stack1()\n",
    "AStack.add(\"Mon\")\n",
    "AStack.add(\"Tue\")\n",
    "AStack.add(\"Wed\")\n",
    "AStack.add(\"Thu\") \n",
    "AStack.printStack()"
   ]
  },
  {
   "cell_type": "code",
   "execution_count": null,
   "id": "0c4e33d6",
   "metadata": {},
   "outputs": [],
   "source": [
    "class Node:\n",
    "    def __init__(self,value):\n",
    "        self.value = value\n",
    "        self.next = None\n",
    "        \n",
    "class Stack:\n",
    "    def __init__(self):\n",
    "        self.top = None\n",
    "        self.count = 0\n",
    "        self.min = 0\n",
    "        \n",
    "    def getMin(self):\n",
    "        if(self.top is None):\n",
    "            return -1\n",
    "        else:\n",
    "            return self.min\n",
    "        \n",
    "    # peek function \n",
    "    def top(self):\n",
    "        if(self.top is None):\n",
    "            return -1\n",
    "        else:\n",
    "            return self.top.value\n",
    "        \n",
    "    #push function\n",
    "    def push(self,value):\n",
    "        \n",
    "        if(self.top is None):\n",
    "            self.top = Node(value)\n",
    "            self.min = value\n",
    "        \n",
    "        else:\n",
    "            if(self.min > value):\n",
    "                self.min = value\n",
    "            node = Node(value)\n",
    "            node.next = self.top\n",
    "            self.top = node\n",
    "        \n",
    "    def printStack(self.value)"
   ]
  }
 ],
 "metadata": {
  "kernelspec": {
   "display_name": "Python 3",
   "language": "python",
   "name": "python3"
  },
  "language_info": {
   "codemirror_mode": {
    "name": "ipython",
    "version": 3
   },
   "file_extension": ".py",
   "mimetype": "text/x-python",
   "name": "python",
   "nbconvert_exporter": "python",
   "pygments_lexer": "ipython3",
   "version": "3.8.8"
  }
 },
 "nbformat": 4,
 "nbformat_minor": 5
}
