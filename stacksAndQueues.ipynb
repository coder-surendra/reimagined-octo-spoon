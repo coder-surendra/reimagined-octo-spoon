{
 "cells": [
  {
   "cell_type": "markdown",
   "id": "3df76aef",
   "metadata": {},
   "source": [
    "### unsolved \n",
    "* stack of stacks"
   ]
  },
  {
   "cell_type": "markdown",
   "id": "09bc5efb",
   "metadata": {},
   "source": [
    "# stacks and queues"
   ]
  },
  {
   "cell_type": "markdown",
   "id": "5f63aece",
   "metadata": {},
   "source": [
    "## three in one:\n",
    "divide the array in 3 equal length i.e. n/3\n",
    "\n",
    "* [ 0,n/3]\n",
    "* [ n/3 + 1 , 2n/3 ]\n",
    "* [ 2n/3 +1 , n]"
   ]
  },
  {
   "cell_type": "code",
   "execution_count": 26,
   "id": "0485836f",
   "metadata": {},
   "outputs": [],
   "source": [
    "'''\n",
    "    stack using list\n",
    "'''\n",
    "class Stack1:\n",
    "    \n",
    "    def __init__(self):\n",
    "        self.stack = []\n",
    "    \n",
    "    def add(self,value):\n",
    "        self.stack.append(value)\n",
    "        \n",
    "    def top(self):\n",
    "        return self.stack[-1]\n",
    "    \n",
    "    def pop(self):\n",
    "        if(len(self.stack)>=1):\n",
    "            return self.stack.pop\n",
    "        else:\n",
    "            return -1\n",
    "    \n",
    "    def printStack(self):\n",
    "        for i in self.stack:\n",
    "            print(i,end=' -> ')\n",
    "    \n"
   ]
  },
  {
   "cell_type": "code",
   "execution_count": 27,
   "id": "941ce167",
   "metadata": {},
   "outputs": [
    {
     "name": "stdout",
     "output_type": "stream",
     "text": [
      "Mon -> Tue -> Wed -> Thu -> "
     ]
    }
   ],
   "source": [
    "AStack = Stack1()\n",
    "AStack.add(\"Mon\")\n",
    "AStack.add(\"Tue\")\n",
    "AStack.add(\"Wed\")\n",
    "AStack.add(\"Thu\") \n",
    "AStack.printStack()"
   ]
  },
  {
   "cell_type": "code",
   "execution_count": null,
   "id": "0c4e33d6",
   "metadata": {},
   "outputs": [],
   "source": [
    "class Node:\n",
    "    def __init__(self,value):\n",
    "        self.value = value\n",
    "        self.next = None\n",
    "        \n",
    "class Stack:\n",
    "    def __init__(self):\n",
    "        self.top = None\n",
    "        self.count = 0\n",
    "        self.min = 0\n",
    "        \n",
    "    def getMin(self):\n",
    "        if(self.top is None):\n",
    "            return -1\n",
    "        else:\n",
    "            return self.min\n",
    "        \n",
    "    # peek function \n",
    "    def top(self):\n",
    "        if(self.top is None):\n",
    "            return -1\n",
    "        else:\n",
    "            return self.top.value\n",
    "        \n",
    "    #push function\n",
    "    def push(self,value):\n",
    "        \n",
    "        if(self.top is None):\n",
    "            self.top = Node(value)\n",
    "            self.min = value\n",
    "        \n",
    "        else:\n",
    "            if(self.min > value):\n",
    "                self.min = value\n",
    "            node = Node(value)\n",
    "            node.next = self.top\n",
    "            self.top = node\n",
    "        \n",
    "    def printStack(self.value)"
   ]
  },
  {
   "cell_type": "code",
   "execution_count": null,
   "id": "692083f5",
   "metadata": {},
   "outputs": [],
   "source": [
    "CAP = 5\n",
    "class StackList:\n",
    "    def __init__(self):\n",
    "        self.top  = None\n",
    "        self.nextStack = None\n",
    "        self.capacity = 0\n",
    "        \n",
    "    def getCapacity(self):\n",
    "        return self.capacity\n",
    "    \n",
    "    def pop(self):\n",
    "        \n",
    "        if(self.top is None):\n",
    "            return False\n",
    "        else:\n",
    "            temp = self.top\n",
    "            self.top = temp.next\n",
    "            temp.next = None\n",
    "            self.capacity -= 1\n",
    "            return temp.value\n",
    "        \n",
    "    \n",
    "    def push(self,value):\n",
    "        \n",
    "        n = Node(value)\n",
    "\n",
    "        self.capacity += 1\n",
    "        if( self.top is None):\n",
    "            self.top = n\n",
    "        else:\n",
    "            n.next = self.top\n",
    "            self.top = n\n",
    "\n",
    "# stack1 =\n",
    "#how to create new stack and user it  (basically its dynamic variable)\n",
    "\n",
    "list = [] \n",
    "stack = StackList()\n",
    "temp = stack.top\n",
    "load = 0\n",
    "# for i in range(0,20):\n",
    "#     n = Node(i)\n",
    "#     if(load <= 5):\n",
    "#         load += 1\n",
    "#         stack."
   ]
  },
  {
   "cell_type": "markdown",
   "id": "9959cdf1",
   "metadata": {},
   "source": [
    "## Queue via Stacks: \n",
    "Implement a MyQueue class which implements a queue using two stacks.\n",
    "Hints: \n",
    "* 98.  The major difference between a queue and a stack is the order of elements. \n",
    "A queue removes the oldest item and a stack removes the newest item. \n",
    "How could you remove the oldest item from a stack if you only had access to the newest item?\n",
    "\n",
    "* 114. We can remove the oldest item from a stack by repeatedly removing the newest item (inserting those into the temporary stack) until we get down to one element. \n",
    "Then, after we've retrieved the newest item, putting all the elements back. The issue with this is that doing several pops in a row will require O ( N) work each time. \n",
    "Can we optimize for scenarios where we might do several pops in a row?"
   ]
  },
  {
   "cell_type": "markdown",
   "id": "d3ee0984",
   "metadata": {},
   "source": [
    "we need 2 arrays\n",
    "* first list stores the sequential order\n",
    "* second list stores in reverse order\n"
   ]
  },
  {
   "cell_type": "code",
   "execution_count": 25,
   "id": "9365e47b",
   "metadata": {},
   "outputs": [
    {
     "name": "stdout",
     "output_type": "stream",
     "text": [
      "bot -> 1 -> 2 -> 3 -> 4 -> 5 -> 6 -> 7 -> 8 -> 9 -> top\n",
      "[9]\n",
      "[9, 8]\n",
      "[9, 8, 7]\n",
      "[9, 8, 7, 6]\n",
      "[9, 8, 7, 6, 5]\n",
      "[9, 8, 7, 6, 5, 4]\n",
      "[9, 8, 7, 6, 5, 4, 3]\n",
      "[9, 8, 7, 6, 5, 4, 3, 2]\n",
      "===\n",
      "[2, 3, 4, 5, 6, 7, 8, 9]\n",
      "[9, 8, 7, 6, 5, 4, 3, 2]\n",
      "popped value =  1\n",
      "bot -> 2 -> 3 -> 4 -> 5 -> 6 -> 7 -> 8 -> 9 -> 10 -> top\n"
     ]
    }
   ],
   "source": [
    "class MyQueue:\n",
    "    def __init__(self):\n",
    "        self.list = []\n",
    "        self.reverseList = []\n",
    "        self.count = 0\n",
    "        \n",
    "    def push(self,value):\n",
    "        self.list.append(value)\n",
    "        \n",
    "    def printQueue(self):\n",
    "        print('bot',end=' -> ')\n",
    "        for i in self.list:\n",
    "            print(i,end=' -> ')\n",
    "        print('top')\n",
    "        \n",
    "    def pop(self):\n",
    "        \n",
    "        if( len(self.list) == 0 ):\n",
    "            return -1\n",
    "        \n",
    "        self.reverseList = []\n",
    "        i = len(self.list) - 1\n",
    "        # sendting values from main list to temp list\n",
    "        while (i >= 1):\n",
    "            self.reverseList.append( self.list[i] )\n",
    "            i = i - 1\n",
    "            print(self.reverseList)\n",
    "        print('===')\n",
    "        poppedValue = self.list[i]\n",
    "\n",
    "        # sendting values from main list to temp list\n",
    "        self.list = []\n",
    "        n = len(self.reverseList)\n",
    "        for i in range(n-1,-1,-1):\n",
    "            self.list.append(self.reverseList[i])\n",
    "\n",
    "        print(self.list)\n",
    "        print(self.reverseList)\n",
    "        print('popped value = ',poppedValue)\n",
    "        return poppedValue\n",
    "    \n",
    "q1 = MyQueue()\n",
    "for i in range(1,10):\n",
    "    q1.push(i)\n",
    "        \n",
    "q1.printQueue()  \n",
    "q1.pop()\n",
    "\n",
    "q1.push(10)\n",
    "q1.printQueue()  "
   ]
  },
  {
   "cell_type": "code",
   "execution_count": 8,
   "id": "ad10f324",
   "metadata": {},
   "outputs": [
    {
     "name": "stdout",
     "output_type": "stream",
     "text": [
      "[1, 2]\n",
      "2\n",
      "[0, 1]\n",
      "\n"
     ]
    }
   ],
   "source": [
    "a = []\n",
    "a.append(1)\n",
    "a.append(2)\n",
    "print(a)\n",
    "a.insert(0,0)\n",
    "print(a.pop())\n",
    "print(a)\n",
    "b = []\n",
    "print()"
   ]
  },
  {
   "cell_type": "markdown",
   "id": "b19a39a8",
   "metadata": {},
   "source": [
    "## Sort Stack:\n",
    "Write a program to sort a stack such that the smallest items are on the top. \n",
    "You can use an additional temporary stack, but you may not copy the elements into any other data structure (such as an array). \n",
    "The stack supports the following operations: push, pop, peek, and is Empty.\n",
    "\n",
    "HINTS : \n",
    "* 15. One way of sorting an array is to iterate through the array and insert each element into a new array in sorted order. Can you do this with a stack?\n",
    "* 32. Imagine your secondary stack is sorted. Can you insert elements into it in sorted order?\n",
    "You might need some extra storage. What could you use for extra storage\n",
    "* 43. Keep the secondary stack in sorted order, with the biggest elements on the top. Use the\n",
    "primary stack f or additional storage."
   ]
  },
  {
   "cell_type": "code",
   "execution_count": 42,
   "id": "bf1dcb3f",
   "metadata": {},
   "outputs": [
    {
     "name": "stdout",
     "output_type": "stream",
     "text": [
      "4 -> 2 -> 1 -> 5 -> 3 -> 9 -> 6 -> 8 -> 7 -> lowest =  4\n",
      "1 -> lowest =  2\n",
      "1 -> 2 -> lowest =  1\n",
      "1 -> 2 -> lowest =  5\n",
      "1 -> 2 -> 3 -> lowest =  3\n",
      "1 -> 2 -> 3 -> lowest =  9\n",
      "1 -> 2 -> 3 -> 4 -> lowest =  6\n",
      "1 -> 2 -> 3 -> 4 -> 5 -> lowest =  8\n",
      "1 -> 2 -> 3 -> 4 -> 5 -> 6 -> lowest =  7\n",
      "1 -> 2 -> 3 -> 4 -> 5 -> 6 -> 7 ->  \n",
      "after sorting\n",
      "1 -> 2 -> 3 -> 4 -> 5 -> 6 -> 7 -> "
     ]
    }
   ],
   "source": [
    "\n",
    "\n",
    "\n",
    "def sortStacks(unsortedStack):\n",
    "    sortedStack = Stack1()\n",
    "    for i in range(0,len(unsortedStack.stack)):\n",
    "        lowest = unsortedStack.stack[i]\n",
    "        print('lowest = ',lowest)\n",
    "        if(lowest not in sortedStack.stack):\n",
    "            \n",
    "            for j in unsortedStack.stack:\n",
    "                if( lowest >  j and (j not in sortedStack.stack) ):\n",
    "                    lowest = j\n",
    "            \n",
    "            sortedStack.add(lowest)\n",
    "        sortedStack.printStack()\n",
    "    print(' ')\n",
    "    print('after sorting')\n",
    "    sortedStack.printStack()\n",
    "    \n",
    "    \n",
    "stackToSort = Stack1()\n",
    "values = [4,2,1,5,3,9,6,8,7]\n",
    "for i in values:\n",
    "    stackToSort.add(i)\n",
    "    \n",
    "stackToSort.printStack()  \n",
    "sortStacks(stackToSort)\n",
    "\n",
    "  "
   ]
  },
  {
   "cell_type": "code",
   "execution_count": 5,
   "id": "796b770d",
   "metadata": {},
   "outputs": [
    {
     "name": "stdout",
     "output_type": "stream",
     "text": [
      "deque([1, 10, 1, 5, 0])\n",
      "deque([1, 10, 1, 5])\n",
      "None\n"
     ]
    }
   ],
   "source": [
    "from collections import deque\n",
    "q = deque()\n",
    "q.appendleft(5)\n",
    "q.appendleft(1)\n",
    "q.appendleft(10)\n",
    "q.appendleft(1)\n",
    "q.append(0)\n",
    "\n",
    "print(q)\n",
    "# print(q.count(1))\n",
    "q.pop()\n",
    "print(q)\n",
    "q.popleft()\n",
    "print(q.maxlen)\n"
   ]
  },
  {
   "cell_type": "code",
   "execution_count": 33,
   "id": "ac579730",
   "metadata": {},
   "outputs": [
    {
     "name": "stdout",
     "output_type": "stream",
     "text": [
      "deque(['y', 'o', 'l', 'o'])\n",
      "2\n",
      "None\n",
      "Y\n",
      "O\n",
      "L\n",
      "O\n",
      "deque(['o', 'l', 'o'])\n"
     ]
    }
   ],
   "source": [
    "\n",
    "q1 = deque('yolo')\n",
    "print(q1)\n",
    "print(q1.count('o'))\n",
    "print(q1.maxlen)\n",
    "for e in q1:\n",
    "    print(e.upper())\n",
    "q1.popleft()\n",
    "print(q1)"
   ]
  },
  {
   "cell_type": "code",
   "execution_count": null,
   "id": "cb9c89f0",
   "metadata": {},
   "outputs": [],
   "source": [
    "class Queue:\n",
    "    def __init__(self):\n",
    "        self.buffer = deque()\n",
    "    \n",
    "    def enqueue(self,value):\n",
    "        # function to insert from left side\n",
    "        self.buffer.appendleft(value)\n",
    "        \n",
    "    def deque(self):\n",
    "        self.buffer.pop()\n",
    "    \n",
    "    def is_empty():\n",
    "        return len(self.buffer) == 0\n",
    "    \n",
    "    def size(self):\n",
    "        return len(self)\n",
    "    \n",
    "pq = Queue()\n",
    "\n",
    "pq.enqueue({\n",
    "    'company': 'Wall Mart',\n",
    "    'timestamp': '15 apr, 11.01 AM',\n",
    "    'price': 131.10\n",
    "})\n",
    "pq.enqueue({\n",
    "    'company': 'Wall Mart',\n",
    "    'timestamp': '15 apr, 11.02 AM',\n",
    "    'price': 132\n",
    "})\n",
    "pq.enqueue({\n",
    "    'company': 'Wall Mart',\n",
    "    'timestamp': '15 apr, 11.03 AM',\n",
    "    'price': 135\n",
    "})\n"
   ]
  },
  {
   "cell_type": "code",
   "execution_count": 3,
   "id": "f5141e1d",
   "metadata": {},
   "outputs": [
    {
     "name": "stdout",
     "output_type": "stream",
     "text": [
      "calculating square numbers\n",
      "calculating cubes\n",
      "square = cube =  1\n",
      " 1\n",
      "cube =  8\n",
      "square =  4\n",
      "cube =  27\n",
      "square =  9\n",
      "square = cube =  16\n",
      " 64\n",
      "done in  0.8340260982513428\n"
     ]
    }
   ],
   "source": [
    "import time\n",
    "import threading\n",
    "\n",
    "def cal_square(nums):\n",
    "    print('calculating square numbers')\n",
    "    for i in nums:\n",
    "        time.sleep(0.2)\n",
    "        print('square = ',i*i)\n",
    "            \n",
    "def cal_cube(nums):\n",
    "    print('calculating cubes')\n",
    "    for i in nums:\n",
    "        time.sleep(0.2)\n",
    "        print('cube = ', i * i * i )\n",
    "        \n",
    "arr = [1,2,3,4]\n",
    "t = time.time()\n",
    "\n",
    "\n",
    "t1 = threading.Thread(target = cal_square, args = (arr,) )\n",
    "t2 = threading.Thread(target = cal_cube, args = (arr,) )\n",
    "\n",
    "t1.start()\n",
    "t2.start()\n",
    "\n",
    "t1.join()\n",
    "t2.join()\n",
    "\n",
    "print('done in ',time.time() - t)"
   ]
  },
  {
   "cell_type": "code",
   "execution_count": 6,
   "id": "0686ef77",
   "metadata": {},
   "outputs": [
    {
     "name": "stdout",
     "output_type": "stream",
     "text": [
      "after inserting\n",
      "deque(['pizza'])\n",
      "after inserting\n",
      "deque(['samosa', 'pizza'])\n",
      "removing pizza\n",
      "after inserting\n",
      "deque(['pasta', 'samosa'])\n",
      "after inserting\n",
      "deque(['biryani', 'pasta', 'samosa'])\n",
      "after inserting\n",
      "deque(['burger', 'biryani', 'pasta', 'samosa'])\n",
      "removing samosa\n",
      "removing pasta\n",
      "removing biryani\n",
      "removing burger\n"
     ]
    }
   ],
   "source": [
    "class FoodQueue:\n",
    "    def __init__(self):\n",
    "        self.buffer = deque()\n",
    "    \n",
    "    def enqueue(self,value):\n",
    "        # function to insert from left side\n",
    "        self.buffer.appendleft(value)\n",
    "\n",
    "    def dequeue(self):\n",
    "        if(self.size()):\n",
    "            return self.buffer.pop()\n",
    "        else:\n",
    "            return False\n",
    "           \n",
    "        \n",
    "    def is_empty():\n",
    "        return len(self.buffer) == 0\n",
    "    \n",
    "    def size(self):\n",
    "        return len(self.buffer)\n",
    "    \n",
    "orders = ['pizza','samosa','pasta','biryani','burger']\n",
    "foodQ = FoodQueue()\n",
    "\n",
    "def placeOrder(foodQ,orders):\n",
    "    for order in orders:\n",
    "        foodQ.enqueue(order)\n",
    "        time.sleep(0.5)\n",
    "        print('after inserting')\n",
    "        print(foodQ.buffer)\n",
    "\n",
    "def finishOrder(foodQ,orders):\n",
    "    \n",
    "    for food in orders:\n",
    "        print('removing',foodQ.dequeue())\n",
    "        time.sleep(2)\n",
    "        \n",
    "t1 = threading.Thread(target = placeOrder, args = (foodQ,orders,) )\n",
    "t1.start()\n",
    "time.sleep(1)\n",
    "t2 = threading.Thread(target = finishOrder, args = (foodQ,orders,) )\n",
    "t2.start()\n",
    "\n",
    "t1.join()\n",
    "t2.join()\n"
   ]
  }
 ],
 "metadata": {
  "kernelspec": {
   "display_name": "Python 3",
   "language": "python",
   "name": "python3"
  },
  "language_info": {
   "codemirror_mode": {
    "name": "ipython",
    "version": 3
   },
   "file_extension": ".py",
   "mimetype": "text/x-python",
   "name": "python",
   "nbconvert_exporter": "python",
   "pygments_lexer": "ipython3",
   "version": "3.8.8"
  }
 },
 "nbformat": 4,
 "nbformat_minor": 5
}
