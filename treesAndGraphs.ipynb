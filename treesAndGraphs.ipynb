{
 "cells": [
  {
   "cell_type": "markdown",
   "id": "0800eda5",
   "metadata": {},
   "source": [
    "### Types of Binary Trees\n",
    "![Binary Tree](images/typesOfBiTree.png)"
   ]
  },
  {
   "cell_type": "code",
   "execution_count": null,
   "id": "5f6cf8d9",
   "metadata": {},
   "outputs": [],
   "source": [
    "binary tree traversal"
   ]
  }
 ],
 "metadata": {
  "kernelspec": {
   "display_name": "Python 3",
   "language": "python",
   "name": "python3"
  },
  "language_info": {
   "codemirror_mode": {
    "name": "ipython",
    "version": 3
   },
   "file_extension": ".py",
   "mimetype": "text/x-python",
   "name": "python",
   "nbconvert_exporter": "python",
   "pygments_lexer": "ipython3",
   "version": "3.8.8"
  }
 },
 "nbformat": 4,
 "nbformat_minor": 5
}
