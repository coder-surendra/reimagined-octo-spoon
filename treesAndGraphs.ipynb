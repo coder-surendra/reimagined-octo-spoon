{
 "cells": [
  {
   "cell_type": "markdown",
   "id": "89140f62",
   "metadata": {},
   "source": [
    "skipped questions :\n",
    "* build order\n"
   ]
  },
  {
   "cell_type": "markdown",
   "id": "0800eda5",
   "metadata": {},
   "source": [
    "### Types of Binary Trees\n",
    "![Binary Tree](images/typesOfBiTree.png)"
   ]
  },
  {
   "cell_type": "markdown",
   "id": "c7088445",
   "metadata": {},
   "source": [
    "### binary tree traversal\n",
    "* Pre-Order : root -> left -> right\n",
    "* In-Order : left -> root -> right\n",
    "* post-Order : left -> right -> root"
   ]
  },
  {
   "cell_type": "code",
   "execution_count": 1,
   "id": "cfd0ca6f",
   "metadata": {},
   "outputs": [],
   "source": [
    "def inOrderTraversal(node):\n",
    "    if(node is None):\n",
    "        inOrderTraversal(node.left)\n",
    "        print(node.data) # change the position of print node, as per your traversal needs\n",
    "        inOrderTraversal(node.right)"
   ]
  },
  {
   "cell_type": "markdown",
   "id": "97b191b7",
   "metadata": {},
   "source": [
    "### Trie (prefix tree)\n",
    "this is more like a finite automata machine(just in tree structure, no loopings)\n"
   ]
  },
  {
   "cell_type": "markdown",
   "id": "69f20f4d",
   "metadata": {},
   "source": [
    "![minimal tree](images/minimal_tree.png)"
   ]
  },
  {
   "cell_type": "markdown",
   "id": "05f973db",
   "metadata": {},
   "source": [
    "![list of depths](images/list_of_depths.png)"
   ]
  },
  {
   "cell_type": "markdown",
   "id": "07532a50",
   "metadata": {},
   "source": [
    "![check balanced](images/check_balanced.png)"
   ]
  },
  {
   "cell_type": "code",
   "execution_count": null,
   "id": "d21afcae",
   "metadata": {},
   "outputs": [],
   "source": [
    "def checkBalance(node):\n",
    "    \n",
    "    if note is None:\n",
    "        return -1\n",
    "    hLeft = checkBlance(node.left)\n",
    "    hRight = checkBalance(node.right)\n",
    "    \n",
    "    if(0<= abs(hLeft - hRight) <= 1):\n",
    "        return max(hLeft,hRight)\n",
    "    else:\n",
    "        reurn -99\n",
    "        \n",
    "       "
   ]
  },
  {
   "cell_type": "markdown",
   "id": "578d5563",
   "metadata": {},
   "source": [
    "![inorder successor](images/inorder_successor.png)"
   ]
  },
  {
   "cell_type": "code",
   "execution_count": 5,
   "id": "891ca87f",
   "metadata": {},
   "outputs": [],
   "source": [
    "class Node:\n",
    "    def __init__(self):\n",
    "        self.data = None\n",
    "        self.left = None\n",
    "        self.right = None\n",
    "        self.parent = None\n",
    "        \n",
    "    def leftMostNode(self,node):\n",
    "        # x = node.right\n",
    "        while(x.left is not None):\n",
    "            x = x.left\n",
    "        return x\n",
    "        \n",
    "    def findAncestor(self,node):\n",
    "        c = node\n",
    "        p = node.parent\n",
    "        \n",
    "        while(parent is not None):\n",
    "            p = p.parent\n",
    "            if(p.left == c):\n",
    "                break\n",
    "            c = p\n",
    "            \n",
    "        return p\n",
    "        \n",
    "    def findInorderSuccessor(self,node):\n",
    "        \n",
    "        if(node.right is not None):\n",
    "            inorderSuccessor = self.leftMostNode(node.right)\n",
    "        else:\n",
    "            parent = node.parent\n",
    "            \n",
    "            if(parent.left == node):\n",
    "                print(parent.data)\n",
    "            else:\n",
    "                inorder = self.findAncestor(node)"
   ]
  },
  {
   "cell_type": "markdown",
   "id": "88202972",
   "metadata": {},
   "source": [
    "## First Common Ancestor: \n",
    "Design an algorithm and write code to find the first common ancestor\n",
    "of two nodes in a binary tree. Avoid storing additional nodes in a data structure. \n",
    "NOTE: This is not necessarily a binary search tree."
   ]
  },
  {
   "cell_type": "markdown",
   "id": "efb1a627",
   "metadata": {},
   "source": [
    "#### asuumption we can acceess to parent from child\n",
    "# Method 1\n",
    "we first bring both nodes to same depth level, i.e. If one node has depth(node1) = 2 and other has 4, then we can't compare their parent and upate parent as p = p.parent\n"
   ]
  },
  {
   "cell_type": "code",
   "execution_count": 5,
   "id": "2bd93f69",
   "metadata": {},
   "outputs": [],
   "source": [
    "def findDepth(root, node):\n",
    "    \n",
    "    if root is None:\n",
    "        return False\n",
    "    \n",
    "    depth = 0\n",
    "    \n",
    "    while(node != root):\n",
    "        node = node.parent\n",
    "        depth += 1\n",
    "    \n",
    "    return depth\n",
    "\n",
    "def nParent(node,height):\n",
    "    \n",
    "    # function returns the parent of the node at given height  \n",
    "    \n",
    "    if node is None:\n",
    "        return False\n",
    "    \n",
    "    while(height > 0):\n",
    "        node = node.parent\n",
    "        height = height - 1\n",
    "        \n",
    "    return node\n",
    "\n",
    "\n",
    "def commonAncestor1(root, nodeA ,nodeB):\n",
    "    diff = depth(nodeA) - depth(B)\n",
    "    first = nodeB if(diff >0) else nodeA\n",
    "    second = nodeA if(diff>0) else nodeB\n",
    "    \n",
    "    while(first != second and (first is not None) and (second is not None)):\n",
    "        first = first.parent\n",
    "        second = second.parent\n",
    "        \n",
    "    # return None if ((first is None) or( second is None)) else first\n",
    "    \n",
    "    if((first is None) or (second is None)):\n",
    "        return None\n",
    "    else:\n",
    "        return first"
   ]
  },
  {
   "cell_type": "markdown",
   "id": "65357062",
   "metadata": {},
   "source": [
    "## method 2\n",
    " here, we go parent of first-node (say p) and check if second-node(say q) is present in other subtree (i.e. checking p's siblings)\n",
    " \n",
    " if yes, p.parent is common ancestor\n",
    " or else we continue p = p.parent thingy"
   ]
  },
  {
   "cell_type": "code",
   "execution_count": 7,
   "id": "1bb5e805",
   "metadata": {},
   "outputs": [],
   "source": [
    "def covers(root,node):\n",
    "    if(root is None):\n",
    "        return False\n",
    "    if(root == node):\n",
    "        return True\n",
    "    return covers(root.left,node) or covers(root.right,node)\n",
    "\n",
    "def getSibiling(node):\n",
    "    if(node is None):\n",
    "        return False\n",
    "    \n",
    "    p = node.parent\n",
    "    if(p.left == node):\n",
    "        return p.right\n",
    "    else:\n",
    "        return p.left\n",
    "    \n",
    "def commonAncestor2(root ,p ,q):\n",
    "    if( (not covers(root, p)) or (not covers(root,q)) ): # nodes aren't parent in tree\n",
    "        return None\n",
    "    elif(covers(p,q)):\n",
    "        return p\n",
    "    elif(covers(q,p)):\n",
    "        return q\n",
    "\n",
    "    sibling = getSibiling(p)\n",
    "    parent = p.parent\n",
    "    while(not covers(sibling, q)):\n",
    "        sibling = getSibiling(parent)\n",
    "        parent = parent.parent\n",
    "        \n",
    "    return parent\n",
    "    "
   ]
  },
  {
   "cell_type": "markdown",
   "id": "5fc771dd",
   "metadata": {},
   "source": [
    "## node can't access parent"
   ]
  },
  {
   "cell_type": "code",
   "execution_count": null,
   "id": "7a4cc34c",
   "metadata": {},
   "outputs": [],
   "source": [
    "def commonAncestor3(root,p,q):\n",
    "    if( not covers(root,p)  or not covers(root,q)): # checking if p & q are in tree\n",
    "        return False\n",
    "    return findAncestor(root,p,q)"
   ]
  }
 ],
 "metadata": {
  "kernelspec": {
   "display_name": "Python 3",
   "language": "python",
   "name": "python3"
  },
  "language_info": {
   "codemirror_mode": {
    "name": "ipython",
    "version": 3
   },
   "file_extension": ".py",
   "mimetype": "text/x-python",
   "name": "python",
   "nbconvert_exporter": "python",
   "pygments_lexer": "ipython3",
   "version": "3.8.8"
  }
 },
 "nbformat": 4,
 "nbformat_minor": 5
}
