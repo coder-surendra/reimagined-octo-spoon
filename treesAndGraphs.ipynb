{
 "cells": [
  {
   "cell_type": "markdown",
   "id": "89140f62",
   "metadata": {},
   "source": [
    "skipped questions :\n",
    "* build order\n",
    "* random node\n",
    "* ~path sum~\n"
   ]
  },
  {
   "cell_type": "markdown",
   "id": "0800eda5",
   "metadata": {},
   "source": [
    "### Types of Binary Trees\n",
    "![Binary Tree](images/typesOfBiTree.png)"
   ]
  },
  {
   "cell_type": "markdown",
   "id": "c7088445",
   "metadata": {},
   "source": [
    "### binary tree traversal\n",
    "* Pre-Order : root -> left -> right\n",
    "* In-Order : left -> root -> right\n",
    "* post-Order : left -> right -> root"
   ]
  },
  {
   "cell_type": "code",
   "execution_count": 1,
   "id": "cfd0ca6f",
   "metadata": {},
   "outputs": [],
   "source": [
    "def inOrderTraversal(node):\n",
    "    if(node is None):\n",
    "        inOrderTraversal(node.left)\n",
    "        print(node.data) # change the position of print node, as per your traversal needs\n",
    "        inOrderTraversal(node.right)"
   ]
  },
  {
   "cell_type": "markdown",
   "id": "97b191b7",
   "metadata": {},
   "source": [
    "### Trie (prefix tree)\n",
    "this is more like a finite automata machine(just in tree structure, no loopings)\n"
   ]
  },
  {
   "cell_type": "markdown",
   "id": "69f20f4d",
   "metadata": {},
   "source": [
    "![minimal tree](images/minimal_tree.png)"
   ]
  },
  {
   "cell_type": "markdown",
   "id": "05f973db",
   "metadata": {},
   "source": [
    "![list of depths](images/list_of_depths.png)"
   ]
  },
  {
   "cell_type": "markdown",
   "id": "07532a50",
   "metadata": {},
   "source": [
    "![check balanced](images/check_balanced.png)"
   ]
  },
  {
   "cell_type": "code",
   "execution_count": null,
   "id": "f5da506d",
   "metadata": {},
   "outputs": [],
   "source": [
    "def checkBalance(node):\n",
    "    \n",
    "    if note is None:\n",
    "        return -1\n",
    "    hLeft = checkBlance(node.left)\n",
    "    hRight = checkBalance(node.right)\n",
    "    \n",
    "    if(0<= abs(hLeft - hRight) <= 1):\n",
    "        return max(hLeft,hRight)\n",
    "    else:\n",
    "        reurn -99\n",
    "        \n",
    "       "
   ]
  },
  {
   "cell_type": "markdown",
   "id": "578d5563",
   "metadata": {},
   "source": [
    "![inorder successor](images/inorder_successor.png)"
   ]
  },
  {
   "cell_type": "code",
   "execution_count": 5,
   "id": "891ca87f",
   "metadata": {},
   "outputs": [],
   "source": [
    "class Node:\n",
    "    def __init__(self):\n",
    "        self.data = None\n",
    "        self.left = None\n",
    "        self.right = None\n",
    "        self.parent = None\n",
    "        \n",
    "    def leftMostNode(self,node):\n",
    "        # x = node.right\n",
    "        while(x.left is not None):\n",
    "            x = x.left\n",
    "        return x\n",
    "        \n",
    "    def findAncestor(self,node):\n",
    "        c = node\n",
    "        p = node.parent\n",
    "        \n",
    "        while(parent is not None):\n",
    "            p = p.parent\n",
    "            if(p.left == c):\n",
    "                break\n",
    "            c = p\n",
    "            \n",
    "        return p\n",
    "        \n",
    "    def findInorderSuccessor(self,node):\n",
    "        \n",
    "        if(node.right is not None):\n",
    "            inorderSuccessor = self.leftMostNode(node.right)\n",
    "        else:\n",
    "            parent = node.parent\n",
    "            \n",
    "            if(parent.left == node):\n",
    "                print(parent.data)\n",
    "            else:\n",
    "                inorder = self.findAncestor(node)"
   ]
  },
  {
   "cell_type": "markdown",
   "id": "6e6256d3",
   "metadata": {},
   "source": [
    "## First Common Ancestor: \n",
    "Design an algorithm and write code to find the first common ancestor\n",
    "of two nodes in a binary tree. Avoid storing additional nodes in a data structure. \n",
    "NOTE: This is not necessarily a binary search tree."
   ]
  },
  {
   "cell_type": "markdown",
   "id": "00bfbb75",
   "metadata": {},
   "source": [
    "#### asuumption we can acceess to parent from child\n",
    "# Method 1\n",
    "we first bring both nodes to same depth level, i.e. If one node has depth(node1) = 2 and other has 4, then we can't compare their parent and upate parent as p = p.parent\n"
   ]
  },
  {
   "cell_type": "code",
   "execution_count": 5,
   "id": "34db4d78",
   "metadata": {},
   "outputs": [],
   "source": [
    "def findDepth(root, node):\n",
    "    \n",
    "    if root is None:\n",
    "        return False\n",
    "    \n",
    "    depth = 0\n",
    "    \n",
    "    while(node != root):\n",
    "        node = node.parent\n",
    "        depth += 1\n",
    "    \n",
    "    return depth\n",
    "\n",
    "def nParent(node,height):\n",
    "    \n",
    "    # function returns the parent of the node at given height  \n",
    "    \n",
    "    if node is None:\n",
    "        return False\n",
    "    \n",
    "    while(height > 0):\n",
    "        node = node.parent\n",
    "        height = height - 1\n",
    "        \n",
    "    return node\n",
    "\n",
    "\n",
    "def commonAncestor1(root, nodeA ,nodeB):\n",
    "    diff = depth(nodeA) - depth(B)\n",
    "    first = nodeB if(diff >0) else nodeA\n",
    "    second = nodeA if(diff>0) else nodeB\n",
    "    \n",
    "    while(first != second and (first is not None) and (second is not None)):\n",
    "        first = first.parent\n",
    "        second = second.parent\n",
    "        \n",
    "    # return None if ((first is None) or( second is None)) else first\n",
    "    \n",
    "    if((first is None) or (second is None)):\n",
    "        return None\n",
    "    else:\n",
    "        return first"
   ]
  },
  {
   "cell_type": "markdown",
   "id": "b45365af",
   "metadata": {},
   "source": [
    "## method 2\n",
    " here, we go parent of first-node (say p) and check if second-node(say q) is present in other subtree (i.e. checking p's siblings)\n",
    " \n",
    " if yes, p.parent is common ancestor\n",
    " or else we continue p = p.parent thingy"
   ]
  },
  {
   "cell_type": "code",
   "execution_count": 7,
   "id": "89350597",
   "metadata": {},
   "outputs": [],
   "source": [
    "def covers(root,node):\n",
    "    if(root is None):\n",
    "        return False\n",
    "    if(root == node):\n",
    "        return True\n",
    "    return covers(root.left,node) or covers(root.right,node)\n",
    "\n",
    "def getSibiling(node):\n",
    "    if(node is None):\n",
    "        return False\n",
    "    \n",
    "    p = node.parent\n",
    "    if(p.left == node):\n",
    "        return p.right\n",
    "    else:\n",
    "        return p.left\n",
    "    \n",
    "def commonAncestor2(root ,p ,q):\n",
    "    if( (not covers(root, p)) or (not covers(root,q)) ): # nodes aren't parent in tree\n",
    "        return None\n",
    "    elif(covers(p,q)):\n",
    "        return p\n",
    "    elif(covers(q,p)):\n",
    "        return q\n",
    "\n",
    "    sibling = getSibiling(p)\n",
    "    parent = p.parent\n",
    "    while(not covers(sibling, q)):\n",
    "        sibling = getSibiling(parent)\n",
    "        parent = parent.parent\n",
    "        \n",
    "    return parent\n",
    "    "
   ]
  },
  {
   "cell_type": "markdown",
   "id": "35d22beb",
   "metadata": {},
   "source": [
    "## node can't access parent"
   ]
  },
  {
   "cell_type": "code",
   "execution_count": 8,
   "id": "0744660a",
   "metadata": {},
   "outputs": [],
   "source": [
    "def covers(root,node):\n",
    "    if(root is None):\n",
    "        return False\n",
    "    if(root == node):\n",
    "        return True\n",
    "    return covers(root.left,node) or covers(root.right,node)\n",
    "\n",
    "def commonAncestor3(root,p,q):\n",
    "    if( not covers(root,p)  or not covers(root,q)): # checking if p & q are in tree\n",
    "        return False\n",
    "    return findAncestor(root,p,q)\n",
    "\n",
    "def findAncestor(root,p,q):\n",
    "    if(root is None or q is None or p is None):\n",
    "        return root\n",
    "    \n",
    "    pIsOnLeft = covers(root.left , p)\n",
    "    qIsOnLeft = covers(root.left , q)\n",
    "    \n",
    "    if(pIsOnLeft != qIsOnLeft): # nodes are on different sides\n",
    "        return root\n",
    "    if(pIsOnLeft):\n",
    "        childSide = root.left\n",
    "    else:\n",
    "        childSide = root.right\n",
    "    return findAncestor(childSide , p , q)\n",
    "\n",
    "    "
   ]
  },
  {
   "cell_type": "markdown",
   "id": "8ce9d72d",
   "metadata": {},
   "source": [
    "### optimised the previous solutions"
   ]
  },
  {
   "cell_type": "code",
   "execution_count": 9,
   "id": "b5380046",
   "metadata": {},
   "outputs": [],
   "source": [
    "def commonAncestor(node , p , q):\n",
    "    if(node is None):\n",
    "        return None\n",
    "    if(node == p  or node == q):\n",
    "        return node\n",
    "    x = commonAncestor(node.left , p , q)\n",
    "    if( x != None and x != p and x != q ):\n",
    "        return x\n",
    "    \n",
    "    y = commonAncestor( node.right , p , q)\n",
    "    if( y != None and y != p and y != q ):\n",
    "        return y\n",
    "    \n",
    "    if( y!= None and x != None): # p and q on different subtree\n",
    "        return node\n",
    "    elif( node == p or node == q):\n",
    "        return root\n",
    "    else:\n",
    "        return y if x is None else x"
   ]
  },
  {
   "cell_type": "code",
   "execution_count": 14,
   "id": "b77cc10e",
   "metadata": {},
   "outputs": [
    {
     "name": "stdout",
     "output_type": "stream",
     "text": [
      "Binary tree \n",
      "  3\n",
      " / \\\n",
      "6   8\n",
      "\n",
      "\n",
      "     4_____\n",
      "    /      \\\n",
      "  _0        6__\n",
      " /         /   \\\n",
      "13       _3     7\n",
      "        /      /\n",
      "       12     2\n",
      "\n"
     ]
    }
   ],
   "source": [
    "from binarytree import Node,tree, bst, heap\n",
    "\n",
    "root = Node(3)\n",
    "root.left = Node(6)\n",
    "root.right = Node(8)\n",
    "\n",
    "print('Binary tree',root)\n",
    "\n",
    "# Generate a random binary tree and return its root node.\n",
    "my_tree = tree(height=3, is_perfect=False)\n",
    "print(my_tree)"
   ]
  },
  {
   "cell_type": "code",
   "execution_count": 16,
   "id": "eeb10643",
   "metadata": {},
   "outputs": [
    {
     "name": "stdout",
     "output_type": "stream",
     "text": [
      "\n",
      "        ______7_______\n",
      "       /              \\\n",
      "    __3__           ___11___\n",
      "   /     \\         /        \\\n",
      "  1       5       9         _13\n",
      " / \\     / \\     / \\       /   \\\n",
      "0   2   4   6   8   10    12    14\n",
      "\n"
     ]
    }
   ],
   "source": [
    "my_bst = bst(height=3, is_perfect=True)\n",
    "print(my_bst)"
   ]
  },
  {
   "cell_type": "markdown",
   "id": "34cca1e1",
   "metadata": {},
   "source": [
    "## creating complete binary tree, i.e insert operations happens from left to right "
   ]
  },
  {
   "cell_type": "code",
   "execution_count": 23,
   "id": "d1a62f5d",
   "metadata": {},
   "outputs": [
    {
     "name": "stdout",
     "output_type": "stream",
     "text": [
      "5 10 1 20 30 "
     ]
    }
   ],
   "source": [
    "from collections import deque\n",
    "class Node:\n",
    "    def __init__(self,data):\n",
    "        self.data = data\n",
    "        self.left = None\n",
    "        self.right = None\n",
    "        \n",
    "class BinaryTree:\n",
    "    def __init__(self):\n",
    "        self.root = None\n",
    "        \n",
    "    def add(self,data):\n",
    "        node = Node(data)\n",
    "        if(self.root is None):\n",
    "            self.root = node\n",
    "            return node\n",
    "    \n",
    "        q = deque()\n",
    "        q.appendleft(self.root)\n",
    "\n",
    "        while(len(q) != 0):\n",
    "            n = q.pop()\n",
    "            if(n.left is None):\n",
    "                newNode = Node(data)\n",
    "                n.left = newNode  \n",
    "                break\n",
    "            else:\n",
    "                q.appendleft(n.left)\n",
    "                \n",
    "            if(n.right is  None):\n",
    "                newNode = Node(data)\n",
    "                n.right = newNode\n",
    "                break\n",
    "            else:\n",
    "                q.appendleft(n.right)\n",
    "        \n",
    "    def inorder(self,node):\n",
    "        if(node ):\n",
    "            self.inorder(node.left)\n",
    "            print(node.data,end=' ')\n",
    "            self.inorder(node.right)\n",
    "        \n",
    "x = BinaryTree()\n",
    "x.add(20)\n",
    "x.add(10)\n",
    "x.add(30)\n",
    "x.add(5)\n",
    "x.add(1)\n",
    "x.inorder(x.root)"
   ]
  },
  {
   "cell_type": "markdown",
   "id": "df970d30",
   "metadata": {},
   "source": [
    "### BST sequence\n",
    "we can solve this using recursion or array, I prefer the array/ deque methods\n",
    "\n"
   ]
  },
  {
   "cell_type": "code",
   "execution_count": 39,
   "id": "f3e59064",
   "metadata": {},
   "outputs": [
    {
     "name": "stdout",
     "output_type": "stream",
     "text": [
      "60\n",
      "40\n",
      "80\n",
      "20\n",
      "50\n",
      "70\n",
      "90\n",
      "==============\n",
      "[[60], [40, 80], [20, 50, 70, 90]]\n"
     ]
    }
   ],
   "source": [
    "from collections import deque\n",
    "\n",
    "def BST_sequence(root):\n",
    "    q = deque()\n",
    "    q.appendleft([root])\n",
    "    rows = []\n",
    "    while(len(q) > 0):\n",
    "        nodes = q.pop()\n",
    "        temp = []\n",
    "        tempData = []\n",
    "        if(len(nodes) > 0):\n",
    "            for node in nodes:\n",
    "                print(node.data)\n",
    "                if(node.left is not None):\n",
    "                    temp.append(node.left)\n",
    "                if(node.right is not None):\n",
    "                    temp.append(node.right)\n",
    "                tempData.append(node.data)\n",
    "\n",
    "            \n",
    "            rows.append(tempData)\n",
    "            q.appendleft(temp)\n",
    "        else:\n",
    "            break\n",
    "\n",
    "    print('==============')\n",
    "    print(rows)\n",
    "    # now can scramble the contents of each row, to show the possible combinations\n",
    "            \n",
    "x = BinaryTree()\n",
    "\n",
    "root = x.add(60)\n",
    "x.add(40)\n",
    "x.add(80)\n",
    "x.add(20)\n",
    "x.add(50)\n",
    "x.add(70)\n",
    "x.add(90)\n",
    "# x.inorder(x.root)\n",
    "\n",
    "BST_sequence(root)"
   ]
  },
  {
   "cell_type": "markdown",
   "id": "0a1dd5ef",
   "metadata": {},
   "source": [
    "### Check Subtree\n"
   ]
  },
  {
   "cell_type": "markdown",
   "id": "1c6fa9d0",
   "metadata": {},
   "source": [
    "![different trees with same traversal order](images/same_traverse_order_for_two_trees.png)"
   ]
  },
  {
   "cell_type": "markdown",
   "id": "2491979a",
   "metadata": {},
   "source": [
    "hence, we can't use traversal order string for any method, they all have flaws"
   ]
  },
  {
   "cell_type": "code",
   "execution_count": 1,
   "id": "39e962ea",
   "metadata": {},
   "outputs": [],
   "source": [
    "def containsTree(t1,t2):\n",
    "    if(t2 is None):\n",
    "        return True\n",
    "    return subTree(t1,t2)\n",
    "\n",
    "def subTree(t1, t2):\n",
    "    if(t2 is None):\n",
    "        return True\n",
    "    if(t1 is None):\n",
    "        return False\n",
    "    elif(t1.data == t2.data and matchTree(t1,t2)):\n",
    "        return True\n",
    "\n",
    "    # move to other nodes\n",
    "    return subTree(t1.left,t2) or subTree(t1.right,t2)\n",
    "\n",
    "def matchTree(t1,t2):\n",
    "    if((t1 is None) and (t2 is None)):\n",
    "        return True\n",
    "    elif(t1 is None or t2 is None):\n",
    "        return False # only 1 tree is empty\n",
    "    elif(r1.data != r2.data):\n",
    "        return False\n",
    "    else:\n",
    "        return matchTree(t1.left,t2.left) and matchTree(t1.right,t2.right)"
   ]
  },
  {
   "cell_type": "markdown",
   "id": "135e29ce",
   "metadata": {},
   "source": [
    "#### creating new bst tree\n"
   ]
  },
  {
   "cell_type": "code",
   "execution_count": null,
   "id": "33feb41f",
   "metadata": {},
   "outputs": [],
   "source": [
    "class Node:\n",
    "    def __init__(self,data):\n",
    "        self.data = None\n",
    "        self.left = None\n",
    "        self.right = None\n",
    "        \n",
    "class BST_Tree:\n",
    "    def __init__(self):\n",
    "        self.root = None\n",
    "        \n",
    "    def addNode(self,node):\n",
    "        if(self.root is None):\n",
    "            self.root = node\n",
    "        else:\n",
    "            self.insertNode(node)\n",
    "        \n",
    "    def insertNode(node):\n",
    "        x = self.root\n",
    "        while(x is not None):\n",
    "            if(x.data <= node.data):\n",
    "                # checking left subtree\n",
    "                if(x.left is None):\n",
    "                    x.left = node\n",
    "                    break\n",
    "                else:\n",
    "                    x = x.left\n",
    "            else:\n",
    "                if(x.right is None):\n",
    "                    x.right  = node\n",
    "                    break\n",
    "                else:\n",
    "                    x = x.right\n",
    "        \n",
    "    def findValue(data):\n",
    "        x = self.root\n",
    "        while(x is not None):\n",
    "            if(x.data == data):\n",
    "                return True\n",
    "            else:\n",
    "                if(x.data < data):\n",
    "                    x = x.right\n",
    "                else:\n",
    "                    x = left\n",
    "        return False"
   ]
  },
  {
   "cell_type": "markdown",
   "id": "082d65a3",
   "metadata": {},
   "source": [
    "the trick is to take the sum of given tree from node to root,  i.e.\n",
    " \n",
    "\n",
    "    f = 0\n",
    "    for j in range(len(path) - 1, -1, -1):    \n",
    "        f += path[j]\n",
    "        \n",
    "and if the sum == number from user\n",
    "\n",
    "        if(f == user_number):\n",
    "            printVector(path,j)\n",
    "            \n",
    "we print it from  j to n, giving an illusion to traversing from root to leaf\n",
    "\n",
    "    for k in range(j, len(path)):\n",
    "        print(path[j], end = ' ')\n",
    "        "
   ]
  },
  {
   "cell_type": "code",
   "execution_count": 7,
   "id": "6b735ceb",
   "metadata": {},
   "outputs": [
    {
     "name": "stdout",
     "output_type": "stream",
     "text": [
      "node.data =  1\n",
      "path becomes =  [1]\n",
      "node.data =  3\n",
      "path becomes =  [1, 3]\n",
      "node.data =  2\n",
      "path becomes =  [1, 3, 2]\n",
      "path in loop  [1, 3, 2]\n",
      " \n",
      "path in loop  [1, 3, 2]\n",
      " \n",
      "3 -> 2 -> \n",
      "path in loop  [1, 3, 2]\n",
      " \n",
      "node.data =  1\n",
      "path becomes =  [1, 3, 1]\n",
      "node.data =  1\n",
      "path becomes =  [1, 3, 1, 1]\n",
      "path in loop  [1, 3, 1, 1]\n",
      " \n",
      "path in loop  [1, 3, 1, 1]\n",
      " \n",
      "path in loop  [1, 3, 1, 1]\n",
      " \n",
      "3 -> 1 -> 1 -> \n",
      "path in loop  [1, 3, 1, 1]\n",
      " \n",
      "path in loop  [1, 3, 1]\n",
      " \n",
      "path in loop  [1, 3, 1]\n",
      " \n",
      "path in loop  [1, 3, 1]\n",
      " \n",
      "1 -> 3 -> 1 -> \n",
      "path in loop  [1, 3]\n",
      " \n",
      "path in loop  [1, 3]\n",
      " \n",
      "node.data =  -1\n",
      "path becomes =  [1, -1]\n",
      "node.data =  4\n",
      "path becomes =  [1, -1, 4]\n",
      "node.data =  1\n",
      "path becomes =  [1, -1, 4, 1]\n",
      "path in loop  [1, -1, 4, 1]\n",
      " \n",
      "path in loop  [1, -1, 4, 1]\n",
      " \n",
      "4 -> 1 -> \n",
      "path in loop  [1, -1, 4, 1]\n",
      " \n",
      "path in loop  [1, -1, 4, 1]\n",
      " \n",
      "1 -> -1 -> 4 -> 1 -> \n",
      "node.data =  2\n",
      "path becomes =  [1, -1, 4, 2]\n",
      "path in loop  [1, -1, 4, 2]\n",
      " \n",
      "path in loop  [1, -1, 4, 2]\n",
      " \n",
      "path in loop  [1, -1, 4, 2]\n",
      " \n",
      "-1 -> 4 -> 2 -> \n",
      "path in loop  [1, -1, 4, 2]\n",
      " \n",
      "path in loop  [1, -1, 4]\n",
      " \n",
      "path in loop  [1, -1, 4]\n",
      " \n",
      "path in loop  [1, -1, 4]\n",
      " \n",
      "node.data =  5\n",
      "path becomes =  [1, -1, 5]\n",
      "node.data =  2\n",
      "path becomes =  [1, -1, 5, 2]\n",
      "path in loop  [1, -1, 5, 2]\n",
      " \n",
      "path in loop  [1, -1, 5, 2]\n",
      " \n",
      "path in loop  [1, -1, 5, 2]\n",
      " \n",
      "path in loop  [1, -1, 5, 2]\n",
      " \n",
      "path in loop  [1, -1, 5]\n",
      " \n",
      "5 -> \n",
      "path in loop  [1, -1, 5]\n",
      " \n",
      "path in loop  [1, -1, 5]\n",
      " \n",
      "1 -> -1 -> 5 -> \n",
      "path in loop  [1, -1]\n",
      " \n",
      "path in loop  [1, -1]\n",
      " \n",
      "path in loop  [1]\n",
      " \n"
     ]
    }
   ],
   "source": [
    "\n",
    " \n",
    "# utility function to print contents of\n",
    "# a vector from index i to it's end\n",
    "def printVector(v, i):\n",
    "    for j in range(i, len(v)):\n",
    "        print(v[j], end = \" -> \")\n",
    "    print()\n",
    "     \n",
    "# Binary Tree Node\n",
    "\"\"\" utility that allocates a newNode\n",
    "with the given key \"\"\"\n",
    "class newNode:\n",
    " # Construct to create a newNode\n",
    "    def __init__(self, key):\n",
    "        self.data = key\n",
    "        self.left = None\n",
    "        self.right = None\n",
    "        # that have sum k\n",
    "def printKPathUtil(root, path, k):\n",
    "    if (not root) :\n",
    "        return\n",
    "    # add current node to the path\n",
    "    \n",
    "    print('node.data = ',root.data)\n",
    "    path.append(root.data)\n",
    "    print('path becomes = ',path)\n",
    "    # check if there's any k sum path\n",
    "    # in the left sub-tree.\n",
    "    printKPathUtil(root.left, path, k)\n",
    "    # check if there's any k sum path\n",
    "    # in the right sub-tree.\n",
    "    printKPathUtil(root.right, path, k)\n",
    "    # check if there's any k sum path that\n",
    "    # terminates at this node\n",
    "    # Traverse the entire path as\n",
    "    # there can be negative elements too\n",
    "    f = 0\n",
    "    for j in range(len(path) - 1, -1, -1):\n",
    "        print('path in loop ',path)\n",
    "        print(' ')\n",
    "        f += path[j]\n",
    "        # If path sum is k, print the path\n",
    "        if (f == k) :\n",
    "            printVector(path, j)\n",
    "    # Remove the current element\n",
    "    # from the path\n",
    "    path.pop(-1)\n",
    "# A wrapper over printKPathUtil()\n",
    "def printKPath(root, k):\n",
    "    path =[]\n",
    "    printKPathUtil(root, path, k)\n",
    "    \n",
    "if __name__ == '__main__':\n",
    "    root = newNode(1)\n",
    "    root.left = newNode(3)\n",
    "    root.left.left = newNode(2)\n",
    "    root.left.right = newNode(1)\n",
    "    root.left.right.left = newNode(1)\n",
    "    root.right = newNode(-1)\n",
    "    root.right.left = newNode(4)\n",
    "    root.right.left.left = newNode(1)\n",
    "    root.right.left.right = newNode(2)\n",
    "    root.right.right = newNode(5)\n",
    "    root.right.right.right = newNode(2)\n",
    "    \n",
    "    k = 5\n",
    "    printKPath(root, k)"
   ]
  },
  {
   "cell_type": "code",
   "execution_count": 2,
   "id": "14b092df",
   "metadata": {},
   "outputs": [
    {
     "name": "stdout",
     "output_type": "stream",
     "text": [
      "hello 0\n"
     ]
    }
   ],
   "source": [
    "for i in range(0,-1,-1):\n",
    "    print('hello',i)"
   ]
  },
  {
   "cell_type": "code",
   "execution_count": 8,
   "id": "61307085",
   "metadata": {},
   "outputs": [
    {
     "name": "stdout",
     "output_type": "stream",
     "text": [
      "2\n",
      "1\n",
      "0\n"
     ]
    }
   ],
   "source": [
    "for j in range(2,-1,-1):\n",
    "    print(j)"
   ]
  }
 ],
 "metadata": {
  "kernelspec": {
   "display_name": "Python 3",
   "language": "python",
   "name": "python3"
  },
  "language_info": {
   "codemirror_mode": {
    "name": "ipython",
    "version": 3
   },
   "file_extension": ".py",
   "mimetype": "text/x-python",
   "name": "python",
   "nbconvert_exporter": "python",
   "pygments_lexer": "ipython3",
   "version": "3.8.8"
  }
 },
 "nbformat": 4,
 "nbformat_minor": 5
}
