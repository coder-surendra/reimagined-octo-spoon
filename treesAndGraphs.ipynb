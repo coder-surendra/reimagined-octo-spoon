{
 "cells": [
  {
   "cell_type": "markdown",
   "id": "0800eda5",
   "metadata": {},
   "source": [
    "### Types of Binary Trees\n",
    "![Binary Tree](images/typesOfBiTree.png)"
   ]
  },
  {
   "cell_type": "markdown",
   "id": "c7088445",
   "metadata": {},
   "source": [
    "### binary tree traversal\n",
    "* Pre-Order : root -> left -> right\n",
    "* In-Order : left -> root -> right\n",
    "* post-Order : left -> right -> root"
   ]
  },
  {
   "cell_type": "code",
   "execution_count": 1,
   "id": "cfd0ca6f",
   "metadata": {},
   "outputs": [],
   "source": [
    "def inOrderTraversal(node):\n",
    "    if(node is None):\n",
    "        inOrderTraversal(node.left)\n",
    "        print(node.data) # change the position of print node, as per your traversal needs\n",
    "        inOrderTraversal(node.right)"
   ]
  },
  {
   "cell_type": "markdown",
   "id": "97b191b7",
   "metadata": {},
   "source": [
    "### Trie (prefix tree)\n",
    "this is more like a finite automata machine(just in tree structure, no loopings)\n"
   ]
  },
  {
   "cell_type": "markdown",
   "id": "69f20f4d",
   "metadata": {},
   "source": [
    "![minimal tree](images/minimal_tree.png)"
   ]
  },
  {
   "cell_type": "markdown",
   "id": "f785eba3",
   "metadata": {},
   "source": [
    "![list of depths](images/list_of_depths.png)"
   ]
  },
  {
   "cell_type": "markdown",
   "id": "16e34954",
   "metadata": {},
   "source": [
    "![check balanced](images/check_balanced.png)"
   ]
  }
 ],
 "metadata": {
  "kernelspec": {
   "display_name": "Python 3",
   "language": "python",
   "name": "python3"
  },
  "language_info": {
   "codemirror_mode": {
    "name": "ipython",
    "version": 3
   },
   "file_extension": ".py",
   "mimetype": "text/x-python",
   "name": "python",
   "nbconvert_exporter": "python",
   "pygments_lexer": "ipython3",
   "version": "3.8.8"
  }
 },
 "nbformat": 4,
 "nbformat_minor": 5
}
