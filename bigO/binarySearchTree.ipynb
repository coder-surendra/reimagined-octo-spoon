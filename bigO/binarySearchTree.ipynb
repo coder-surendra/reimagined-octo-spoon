{
 "cells": [
  {
   "cell_type": "markdown",
   "id": "6097acbb",
   "metadata": {},
   "source": [
    "# Binary Search Tree\n",
    "A Binary Search Tree (BST) is a binary tree  in which \n",
    "* each vertex has upto 2 children\n",
    "* all vertices in left subtree must hold smaller value\n",
    "* all vertices in the right subtree much hold larger value "
   ]
  },
  {
   "cell_type": "markdown",
   "id": "b3b011af",
   "metadata": {},
   "source": [
    " ### If a binary search tree is not balanced, how long might it take (worst case) to find an element in it"
   ]
  },
  {
   "cell_type": "markdown",
   "id": "b5eaa0bd",
   "metadata": {},
   "source": [
    "!['binary_search_tree'](https://upload.wikimedia.org/wikipedia/commons/d/da/Binary_search_tree.svg)"
   ]
  },
  {
   "cell_type": "markdown",
   "id": "f13a47a1",
   "metadata": {},
   "source": [
    "so this tree has \n",
    "*  length i.e. N = 9\n",
    "* depth i.e. D = 4\n",
    "\n",
    "when we say the worst case, we are gonna refer to last nodes in the tree i.e. leaves\n",
    "\n",
    "and the worst case, each node would have single child, this depth = length = N\n",
    "\n",
    "thus the time complexity would be **O(N)**\n",
    "\n",
    "I think, we won't have scene like O(branches ** depth) because the BST properties"
   ]
  },
  {
   "cell_type": "code",
   "execution_count": null,
   "id": "cfafdc4a",
   "metadata": {},
   "outputs": [],
   "source": []
  },
  {
   "cell_type": "markdown",
   "id": "18d91e18",
   "metadata": {},
   "source": [
    "### You are looking for a specific value in a binary tree, but the tree is not a binary search tree.What is the time complexity of this?\n",
    "\n"
   ]
  },
  {
   "cell_type": "markdown",
   "id": "4fff9de2",
   "metadata": {},
   "source": [
    "A binary tree is a tree data stucture in which \n",
    "* each vertex has upto 2 children"
   ]
  },
  {
   "cell_type": "markdown",
   "id": "e9246426",
   "metadata": {},
   "source": [
    "thus the complexity would be **O(n)**"
   ]
  },
  {
   "cell_type": "code",
   "execution_count": null,
   "id": "46fa2290",
   "metadata": {},
   "outputs": [],
   "source": []
  }
 ],
 "metadata": {
  "kernelspec": {
   "display_name": "Python 3",
   "language": "python",
   "name": "python3"
  },
  "language_info": {
   "codemirror_mode": {
    "name": "ipython",
    "version": 3
   },
   "file_extension": ".py",
   "mimetype": "text/x-python",
   "name": "python",
   "nbconvert_exporter": "python",
   "pygments_lexer": "ipython3",
   "version": "3.6.13"
  }
 },
 "nbformat": 4,
 "nbformat_minor": 5
}
