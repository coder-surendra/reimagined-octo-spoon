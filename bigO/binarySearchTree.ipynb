{
 "cells": [
  {
   "cell_type": "markdown",
   "id": "9ffcf561",
   "metadata": {},
   "source": [
    "# binary search tree\n",
    "A Binary Search Tree (BST) is a binary tree  in which \n",
    "* each vertex has upto 2 childre\n",
    "* all vertices in left subtree must hold smaller value\n",
    "* all vertices in the right subtree much hold larger value "
   ]
  },
  {
   "cell_type": "markdown",
   "id": "b3b011af",
   "metadata": {},
   "source": [
    " ### If a binary search tree is not balanced, how long might it take (worst case) to find an element in it"
   ]
  },
  {
   "cell_type": "markdown",
   "id": "b5eaa0bd",
   "metadata": {},
   "source": [
    "!['binary_search_tree'](https://upload.wikimedia.org/wikipedia/commons/d/da/Binary_search_tree.svg)"
   ]
  },
  {
   "cell_type": "markdown",
   "id": "c7f435e7",
   "metadata": {},
   "source": [
    "so this tree has \n",
    "*  length i.e. N = 9\n",
    "* depth i.e. D = 4\n",
    "\n",
    "when we say the worst case, we are gonna refer to last nodes in the tree i.e. leaves\n",
    "thus the time complexity would be **O(Depth)**"
   ]
  },
  {
   "cell_type": "markdown",
   "id": "10b05b07",
   "metadata": {},
   "source": []
  }
 ],
 "metadata": {
  "kernelspec": {
   "display_name": "Python 3",
   "language": "python",
   "name": "python3"
  },
  "language_info": {
   "codemirror_mode": {
    "name": "ipython",
    "version": 3
   },
   "file_extension": ".py",
   "mimetype": "text/x-python",
   "name": "python",
   "nbconvert_exporter": "python",
   "pygments_lexer": "ipython3",
   "version": "3.6.13"
  }
 },
 "nbformat": 4,
 "nbformat_minor": 5
}
